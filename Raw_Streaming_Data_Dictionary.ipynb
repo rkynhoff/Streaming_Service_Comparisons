{
 "cells": [
  {
   "cell_type": "markdown",
   "metadata": {},
   "source": [
    "### **Data Dictionary**\n",
    "This is the data dictionary associated with the four original streaming service DataFrames. \t\t\t\t\n",
    "\n",
    "| Field/Column  | Description | Source | Data Type | \n",
    "|:--------------|:------------|:-------|:----------|\n",
    "| title | The name of the movie or tv show. | Original csv files  | text string |\n",
    "| type | The title content type, either \"move\" or \"tv\" | Original csv files | text string | \n",
    "| genres | Includes all available genres for the title. | Original csv files | text string  |\n",
    "| releaseYear | The year the movie or tv show was released according to the streaming platform. | Original csv files | int |\n",
    "| imdbId | The IMDb ID, if present, a unique value used in the URL of the IMDb content listing. | Original csv files | string |\n",
    "| imdbAverageRating | The average rating by customers on IMDb | Original csv files | float |\n",
    "| imdbNumVotes | The total number of votes by customers on IMDb | Original csv files | int |\n",
    "| availableCountries | List of countries in which the title is available. | Original csv files | text string |"
   ]
  }
 ],
 "metadata": {
  "language_info": {
   "name": "python"
  }
 },
 "nbformat": 4,
 "nbformat_minor": 2
}
