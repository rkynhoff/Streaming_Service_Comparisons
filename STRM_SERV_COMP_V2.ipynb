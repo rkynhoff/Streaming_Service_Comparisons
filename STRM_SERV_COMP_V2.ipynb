{
 "cells": [
  {
   "cell_type": "markdown",
   "metadata": {},
   "source": [
    "# <u>**Streaming Service Comparison**</u>\n",
    "\n",
    "### **Objective:**\n",
    "- Determine which streaming platform hosts the majority of content I enjoy so that I can pare down the services to which I subscribe. \n",
    "\n",
    "### **Data Sources:**\n",
    "- [Netflix via Kaggle.com](https://www.kaggle.com/datasets/octopusteam/full-netflix-dataset)\n",
    "- [Hulu via Kaggle.com](https://www.kaggle.com/datasets/octopusteam/full-hulu-dataset)\n",
    "- [Prime via Kaggle.com](https://www.kaggle.com/datasets/octopusteam/full-amazon-prime-dataset/data)\n",
    "- [AppleTV via Kaggle.com](https://www.kaggle.com/datasets/octopusteam/full-apple-tv-dataset)\n",
    "\n",
    "## **Data Collection & Loading**\n",
    "\n",
    "### **Import Pandas, Numpy, Matplotlib, Wordcloud, and PIL**"
   ]
  },
  {
   "cell_type": "code",
   "execution_count": 6,
   "metadata": {},
   "outputs": [],
   "source": [
    "import glob\n",
    "import pandas as pd\n",
    "import os\n",
    "import numpy as np\n",
    "import matplotlib.pyplot as plt\n",
    "import wordcloud as wc\n",
    "from PIL import Image"
   ]
  },
  {
   "cell_type": "code",
   "execution_count": null,
   "metadata": {},
   "outputs": [],
   "source": [
    "# def create_df_name(file_path):\n",
    " \n",
    "\n",
    "# file_path = \"Streaming_Service_Comparisons\"\n",
    "# df = create_df_name(file_path)\n",
    "\n",
    "# if df is not None:\n",
    "#      print(f\"Dataframe name: {df.name}\")\n",
    "#      print(df.head())\n"
   ]
  },
  {
   "cell_type": "code",
   "execution_count": 11,
   "metadata": {},
   "outputs": [
    {
     "ename": "KeyError",
     "evalue": "'AppleTV'",
     "output_type": "error",
     "traceback": [
      "\u001b[1;31m---------------------------------------------------------------------------\u001b[0m",
      "\u001b[1;31mKeyError\u001b[0m                                  Traceback (most recent call last)",
      "Cell \u001b[1;32mIn[11], line 14\u001b[0m\n\u001b[0;32m     11\u001b[0m folder_path \u001b[38;5;241m=\u001b[39m \u001b[38;5;124m\"\u001b[39m\u001b[38;5;124mStreaming_Service_Comparisons\u001b[39m\u001b[38;5;124m\"\u001b[39m\n\u001b[0;32m     12\u001b[0m dfs \u001b[38;5;241m=\u001b[39m read_csvs(folder_path)\n\u001b[1;32m---> 14\u001b[0m df_AppleTV \u001b[38;5;241m=\u001b[39m \u001b[43mdfs\u001b[49m\u001b[43m[\u001b[49m\u001b[38;5;124;43m\"\u001b[39;49m\u001b[38;5;124;43mAppleTV\u001b[39;49m\u001b[38;5;124;43m\"\u001b[39;49m\u001b[43m]\u001b[49m\n",
      "\u001b[1;31mKeyError\u001b[0m: 'AppleTV'"
     ]
    }
   ],
   "source": [
    "def read_csvs(folder_path):\n",
    "    all_files = glob.glob(os.path.join(folder_path, \"*.csv\"))    \n",
    "\n",
    "    all_df = {}\n",
    "    for file in all_files:\n",
    "        file_name = os.path.basename(file).replace(\".csv\",\"\")\n",
    "        df = pd.read_csv(file)\n",
    "        all_df[file_name] = df\n",
    "    return all_df\n",
    "\n",
    "folder_path = \"Streaming_Service_Comparisons\"\n",
    "dfs = read_csvs(folder_path)\n",
    "\n",
    "df_AppleTV = dfs[\"AppleTV\"]\n"
   ]
  },
  {
   "cell_type": "code",
   "execution_count": null,
   "metadata": {},
   "outputs": [],
   "source": [
    "# Assign dataset names & combine to read in as separate data frames\n",
    "\n",
    "list_of_names = ['Netflix','Hulu','Prime','AppleTV']\n",
    "\n",
    "# Created an empty list into which I can place the datasets\n",
    "combined_list = []\n",
    "\n",
    "# Used a loop to append the datasets into the empty list I created above\n",
    "for i in range(len(list_of_names)):\n",
    "    temp_df = pd.read_csv(list_of_names[i]+\".csv\")\n",
    "    combined_list.append(temp_df)\n"
   ]
  }
 ],
 "metadata": {
  "kernelspec": {
   "display_name": "venv",
   "language": "python",
   "name": "python3"
  },
  "language_info": {
   "codemirror_mode": {
    "name": "ipython",
    "version": 3
   },
   "file_extension": ".py",
   "mimetype": "text/x-python",
   "name": "python",
   "nbconvert_exporter": "python",
   "pygments_lexer": "ipython3",
   "version": "3.13.0"
  }
 },
 "nbformat": 4,
 "nbformat_minor": 2
}
