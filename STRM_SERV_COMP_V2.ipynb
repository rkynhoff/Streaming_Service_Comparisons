{
 "cells": [
  {
   "cell_type": "markdown",
   "metadata": {},
   "source": [
    "# <u>**Streaming Service Comparison**</u>\n",
    "\n",
    "### **Objective:**\n",
    "- Determine which streaming platform hosts the majority of content I enjoy so that I can pare down the services to which I subscribe. \n",
    "\n",
    "### **Data Sources:**\n",
    "- [Netflix via Kaggle.com](https://www.kaggle.com/datasets/octopusteam/full-netflix-dataset)\n",
    "- [Hulu via Kaggle.com](https://www.kaggle.com/datasets/octopusteam/full-hulu-dataset)\n",
    "- [Prime via Kaggle.com](https://www.kaggle.com/datasets/octopusteam/full-amazon-prime-dataset/data)\n",
    "- [AppleTV via Kaggle.com](https://www.kaggle.com/datasets/octopusteam/full-apple-tv-dataset)\n",
    "- [Streaming Service Pricing](https://github.com/rkynhoff/Streaming_Service_Comparisons/blob/main/Data/Streaming_Services_Pricing_Histories.csv)\n",
    "    - Created manually using  \n",
    "\n",
    "## **Data Collection & Loading**\n",
    "\n",
    "### **Import Pandas, Numpy, Matplotlib, Wordcloud, and PIL**"
   ]
  },
  {
   "cell_type": "code",
   "execution_count": 135,
   "metadata": {},
   "outputs": [],
   "source": [
    "import glob\n",
    "import pandas as pd\n",
    "import os\n",
    "import numpy as np\n",
    "import pyspark\n",
    "from pyspark.sql import SparkSession\n",
    "import matplotlib.pyplot as plt\n",
    "import matplotlib.colors as mcolors\n",
    "import seaborn as sn\n",
    "from wordcloud import WordCloud\n",
    "import matplotlib.pyplot as plt\n",
    "from PIL import Image\n",
    "import tabulate"
   ]
  },
  {
   "cell_type": "markdown",
   "metadata": {},
   "source": [
    "### **Data Load**"
   ]
  },
  {
   "cell_type": "code",
   "execution_count": 136,
   "metadata": {},
   "outputs": [],
   "source": [
    "# Load in each file separately. \n",
    "apple = pd.read_csv(\"Data/AppleTV.csv\")\n",
    "hulu = pd.read_csv(\"Data/Hulu.csv\")\n",
    "netflix = pd.read_csv(\"Data/Netflix.csv\")\n",
    "prime = pd.read_csv(\"Data/Prime.csv\")\n",
    "prices = pd.read_csv(\"Data/Streaming_Services_Pricing_Histories.csv\")\n"
   ]
  },
  {
   "cell_type": "markdown",
   "metadata": {},
   "source": [
    "### **Data Dictionary**\n",
    "This is the data dictionary associated with the four original streaming service DataFrames. \t\t\t\t\n",
    "\n",
    "| Field/Column  | Description | Source | Data Type | Example |\n",
    "|:--------------|:------------|:-------|:----------|:--------|\n",
    "| title | The name of the movie or tv show. | Original csv files  | text string | Breakfast at Tiffany's |\n",
    "| type | The title content type, either \"move\" or \"tv\" | Original csv files | text string | movie |\n",
    "| genres | Includes all available genres for the title. | Original csv files | text string  | Comedy, Drama, Romance |\n",
    "| releaseYear | The year the movie or tv show was released according to the streaming platform. | Original csv files | int | 1961 |\n",
    "| imdbId | The IMDb ID, if present, a unique value used in the URL of the IMDb content listing. | Original csv files | string | tt0054698 |\n",
    "| imdbAverageRating | The average rating by customers on IMDb | Original csv files | float | 7.6 |\n",
    "| imdbNumVotes | The total number of votes by customers on IMDb | Original csv files | int | 197447 |\n",
    "| availableCountries | List of countries in which the title is available. | Original csv files | text string | CA, US |"
   ]
  },
  {
   "cell_type": "code",
   "execution_count": 137,
   "metadata": {},
   "outputs": [
    {
     "data": {
      "text/plain": [
       "Service_Name     object\n",
       "Date             object\n",
       "Price           float64\n",
       "dtype: object"
      ]
     },
     "execution_count": 137,
     "metadata": {},
     "output_type": "execute_result"
    }
   ],
   "source": [
    "prices.dtypes"
   ]
  },
  {
   "cell_type": "markdown",
   "metadata": {},
   "source": [
    "### **Preliminary Data Exploration**"
   ]
  },
  {
   "cell_type": "code",
   "execution_count": 138,
   "metadata": {},
   "outputs": [
    {
     "data": {
      "text/html": [
       "<div>\n",
       "<style scoped>\n",
       "    .dataframe tbody tr th:only-of-type {\n",
       "        vertical-align: middle;\n",
       "    }\n",
       "\n",
       "    .dataframe tbody tr th {\n",
       "        vertical-align: top;\n",
       "    }\n",
       "\n",
       "    .dataframe thead th {\n",
       "        text-align: right;\n",
       "    }\n",
       "</style>\n",
       "<table border=\"1\" class=\"dataframe\">\n",
       "  <thead>\n",
       "    <tr style=\"text-align: right;\">\n",
       "      <th></th>\n",
       "      <th>Service_Name</th>\n",
       "      <th>Date</th>\n",
       "      <th>Price</th>\n",
       "    </tr>\n",
       "  </thead>\n",
       "  <tbody>\n",
       "    <tr>\n",
       "      <th>0</th>\n",
       "      <td>AppleTV</td>\n",
       "      <td>Nov-19</td>\n",
       "      <td>4.99</td>\n",
       "    </tr>\n",
       "    <tr>\n",
       "      <th>1</th>\n",
       "      <td>AppleTV</td>\n",
       "      <td>Dec-19</td>\n",
       "      <td>4.99</td>\n",
       "    </tr>\n",
       "    <tr>\n",
       "      <th>2</th>\n",
       "      <td>AppleTV</td>\n",
       "      <td>Jan-20</td>\n",
       "      <td>4.99</td>\n",
       "    </tr>\n",
       "    <tr>\n",
       "      <th>3</th>\n",
       "      <td>AppleTV</td>\n",
       "      <td>Feb-20</td>\n",
       "      <td>4.99</td>\n",
       "    </tr>\n",
       "    <tr>\n",
       "      <th>4</th>\n",
       "      <td>AppleTV</td>\n",
       "      <td>Mar-20</td>\n",
       "      <td>4.99</td>\n",
       "    </tr>\n",
       "    <tr>\n",
       "      <th>...</th>\n",
       "      <td>...</td>\n",
       "      <td>...</td>\n",
       "      <td>...</td>\n",
       "    </tr>\n",
       "    <tr>\n",
       "      <th>251</th>\n",
       "      <td>Prime</td>\n",
       "      <td>Oct-24</td>\n",
       "      <td>14.99</td>\n",
       "    </tr>\n",
       "    <tr>\n",
       "      <th>252</th>\n",
       "      <td>Prime</td>\n",
       "      <td>Nov-24</td>\n",
       "      <td>14.99</td>\n",
       "    </tr>\n",
       "    <tr>\n",
       "      <th>253</th>\n",
       "      <td>Prime</td>\n",
       "      <td>Dec-24</td>\n",
       "      <td>14.99</td>\n",
       "    </tr>\n",
       "    <tr>\n",
       "      <th>254</th>\n",
       "      <td>Prime</td>\n",
       "      <td>Jan-25</td>\n",
       "      <td>14.99</td>\n",
       "    </tr>\n",
       "    <tr>\n",
       "      <th>255</th>\n",
       "      <td>Prime</td>\n",
       "      <td>Feb-25</td>\n",
       "      <td>14.99</td>\n",
       "    </tr>\n",
       "  </tbody>\n",
       "</table>\n",
       "<p>256 rows × 3 columns</p>\n",
       "</div>"
      ],
      "text/plain": [
       "    Service_Name    Date  Price\n",
       "0        AppleTV  Nov-19   4.99\n",
       "1        AppleTV  Dec-19   4.99\n",
       "2        AppleTV  Jan-20   4.99\n",
       "3        AppleTV  Feb-20   4.99\n",
       "4        AppleTV  Mar-20   4.99\n",
       "..           ...     ...    ...\n",
       "251        Prime  Oct-24  14.99\n",
       "252        Prime  Nov-24  14.99\n",
       "253        Prime  Dec-24  14.99\n",
       "254        Prime  Jan-25  14.99\n",
       "255        Prime  Feb-25  14.99\n",
       "\n",
       "[256 rows x 3 columns]"
      ]
     },
     "metadata": {},
     "output_type": "display_data"
    }
   ],
   "source": [
    "display(prices)"
   ]
  },
  {
   "cell_type": "code",
   "execution_count": 139,
   "metadata": {},
   "outputs": [
    {
     "data": {
      "text/plain": [
       "Service_Name     object\n",
       "Date             object\n",
       "Price           float64\n",
       "dtype: object"
      ]
     },
     "execution_count": 139,
     "metadata": {},
     "output_type": "execute_result"
    }
   ],
   "source": [
    "prices.dtypes"
   ]
  },
  {
   "cell_type": "markdown",
   "metadata": {},
   "source": [
    "The prices df appears to have a date column in month/year. I will need to reformat that date field."
   ]
  },
  {
   "cell_type": "code",
   "execution_count": 140,
   "metadata": {},
   "outputs": [
    {
     "data": {
      "text/html": [
       "<div>\n",
       "<style scoped>\n",
       "    .dataframe tbody tr th:only-of-type {\n",
       "        vertical-align: middle;\n",
       "    }\n",
       "\n",
       "    .dataframe tbody tr th {\n",
       "        vertical-align: top;\n",
       "    }\n",
       "\n",
       "    .dataframe thead th {\n",
       "        text-align: right;\n",
       "    }\n",
       "</style>\n",
       "<table border=\"1\" class=\"dataframe\">\n",
       "  <thead>\n",
       "    <tr style=\"text-align: right;\">\n",
       "      <th></th>\n",
       "      <th>title</th>\n",
       "      <th>type</th>\n",
       "      <th>genres</th>\n",
       "      <th>releaseYear</th>\n",
       "      <th>imdbId</th>\n",
       "      <th>imdbAverageRating</th>\n",
       "      <th>imdbNumVotes</th>\n",
       "      <th>availableCountries</th>\n",
       "    </tr>\n",
       "  </thead>\n",
       "  <tbody>\n",
       "    <tr>\n",
       "      <th>0</th>\n",
       "      <td>Four Rooms</td>\n",
       "      <td>movie</td>\n",
       "      <td>Comedy</td>\n",
       "      <td>1995.0</td>\n",
       "      <td>tt0113101</td>\n",
       "      <td>6.7</td>\n",
       "      <td>113546.0</td>\n",
       "      <td>NaN</td>\n",
       "    </tr>\n",
       "    <tr>\n",
       "      <th>1</th>\n",
       "      <td>Forrest Gump</td>\n",
       "      <td>movie</td>\n",
       "      <td>Drama, Romance</td>\n",
       "      <td>1994.0</td>\n",
       "      <td>tt0109830</td>\n",
       "      <td>8.8</td>\n",
       "      <td>2354158.0</td>\n",
       "      <td>NaN</td>\n",
       "    </tr>\n",
       "    <tr>\n",
       "      <th>2</th>\n",
       "      <td>American Beauty</td>\n",
       "      <td>movie</td>\n",
       "      <td>Drama</td>\n",
       "      <td>1999.0</td>\n",
       "      <td>tt0169547</td>\n",
       "      <td>8.3</td>\n",
       "      <td>1241156.0</td>\n",
       "      <td>NaN</td>\n",
       "    </tr>\n",
       "    <tr>\n",
       "      <th>3</th>\n",
       "      <td>Citizen Kane</td>\n",
       "      <td>movie</td>\n",
       "      <td>Drama, Mystery</td>\n",
       "      <td>1941.0</td>\n",
       "      <td>tt0033467</td>\n",
       "      <td>8.3</td>\n",
       "      <td>478085.0</td>\n",
       "      <td>NaN</td>\n",
       "    </tr>\n",
       "    <tr>\n",
       "      <th>4</th>\n",
       "      <td>Metropolis</td>\n",
       "      <td>movie</td>\n",
       "      <td>Drama, Sci-Fi</td>\n",
       "      <td>1927.0</td>\n",
       "      <td>tt0017136</td>\n",
       "      <td>8.3</td>\n",
       "      <td>192628.0</td>\n",
       "      <td>NaN</td>\n",
       "    </tr>\n",
       "  </tbody>\n",
       "</table>\n",
       "</div>"
      ],
      "text/plain": [
       "             title   type          genres  releaseYear     imdbId  \\\n",
       "0       Four Rooms  movie          Comedy       1995.0  tt0113101   \n",
       "1     Forrest Gump  movie  Drama, Romance       1994.0  tt0109830   \n",
       "2  American Beauty  movie           Drama       1999.0  tt0169547   \n",
       "3     Citizen Kane  movie  Drama, Mystery       1941.0  tt0033467   \n",
       "4       Metropolis  movie   Drama, Sci-Fi       1927.0  tt0017136   \n",
       "\n",
       "   imdbAverageRating  imdbNumVotes availableCountries  \n",
       "0                6.7      113546.0                NaN  \n",
       "1                8.8     2354158.0                NaN  \n",
       "2                8.3     1241156.0                NaN  \n",
       "3                8.3      478085.0                NaN  \n",
       "4                8.3      192628.0                NaN  "
      ]
     },
     "metadata": {},
     "output_type": "display_data"
    },
    {
     "data": {
      "text/html": [
       "<div>\n",
       "<style scoped>\n",
       "    .dataframe tbody tr th:only-of-type {\n",
       "        vertical-align: middle;\n",
       "    }\n",
       "\n",
       "    .dataframe tbody tr th {\n",
       "        vertical-align: top;\n",
       "    }\n",
       "\n",
       "    .dataframe thead th {\n",
       "        text-align: right;\n",
       "    }\n",
       "</style>\n",
       "<table border=\"1\" class=\"dataframe\">\n",
       "  <thead>\n",
       "    <tr style=\"text-align: right;\">\n",
       "      <th></th>\n",
       "      <th>title</th>\n",
       "      <th>type</th>\n",
       "      <th>genres</th>\n",
       "      <th>releaseYear</th>\n",
       "      <th>imdbId</th>\n",
       "      <th>imdbAverageRating</th>\n",
       "      <th>imdbNumVotes</th>\n",
       "      <th>availableCountries</th>\n",
       "    </tr>\n",
       "  </thead>\n",
       "  <tbody>\n",
       "    <tr>\n",
       "      <th>0</th>\n",
       "      <td>Ariel</td>\n",
       "      <td>movie</td>\n",
       "      <td>Comedy, Crime, Romance</td>\n",
       "      <td>1988.0</td>\n",
       "      <td>tt0094675</td>\n",
       "      <td>7.4</td>\n",
       "      <td>8991.0</td>\n",
       "      <td>NaN</td>\n",
       "    </tr>\n",
       "    <tr>\n",
       "      <th>1</th>\n",
       "      <td>Shadows in Paradise</td>\n",
       "      <td>movie</td>\n",
       "      <td>Comedy, Drama, Music</td>\n",
       "      <td>1986.0</td>\n",
       "      <td>tt0092149</td>\n",
       "      <td>7.5</td>\n",
       "      <td>7792.0</td>\n",
       "      <td>NaN</td>\n",
       "    </tr>\n",
       "    <tr>\n",
       "      <th>2</th>\n",
       "      <td>Finding Nemo</td>\n",
       "      <td>movie</td>\n",
       "      <td>Adventure, Animation, Comedy</td>\n",
       "      <td>2003.0</td>\n",
       "      <td>tt0266543</td>\n",
       "      <td>8.2</td>\n",
       "      <td>1149529.0</td>\n",
       "      <td>NaN</td>\n",
       "    </tr>\n",
       "    <tr>\n",
       "      <th>3</th>\n",
       "      <td>Forrest Gump</td>\n",
       "      <td>movie</td>\n",
       "      <td>Drama, Romance</td>\n",
       "      <td>1994.0</td>\n",
       "      <td>tt0109830</td>\n",
       "      <td>8.8</td>\n",
       "      <td>2354158.0</td>\n",
       "      <td>NaN</td>\n",
       "    </tr>\n",
       "    <tr>\n",
       "      <th>4</th>\n",
       "      <td>The Fifth Element</td>\n",
       "      <td>movie</td>\n",
       "      <td>Action, Adventure, Sci-Fi</td>\n",
       "      <td>1997.0</td>\n",
       "      <td>tt0119116</td>\n",
       "      <td>7.6</td>\n",
       "      <td>522699.0</td>\n",
       "      <td>NaN</td>\n",
       "    </tr>\n",
       "  </tbody>\n",
       "</table>\n",
       "</div>"
      ],
      "text/plain": [
       "                 title   type                        genres  releaseYear  \\\n",
       "0                Ariel  movie        Comedy, Crime, Romance       1988.0   \n",
       "1  Shadows in Paradise  movie          Comedy, Drama, Music       1986.0   \n",
       "2         Finding Nemo  movie  Adventure, Animation, Comedy       2003.0   \n",
       "3         Forrest Gump  movie                Drama, Romance       1994.0   \n",
       "4    The Fifth Element  movie     Action, Adventure, Sci-Fi       1997.0   \n",
       "\n",
       "      imdbId  imdbAverageRating  imdbNumVotes availableCountries  \n",
       "0  tt0094675                7.4        8991.0                NaN  \n",
       "1  tt0092149                7.5        7792.0                NaN  \n",
       "2  tt0266543                8.2     1149529.0                NaN  \n",
       "3  tt0109830                8.8     2354158.0                NaN  \n",
       "4  tt0119116                7.6      522699.0                NaN  "
      ]
     },
     "metadata": {},
     "output_type": "display_data"
    },
    {
     "data": {
      "text/html": [
       "<div>\n",
       "<style scoped>\n",
       "    .dataframe tbody tr th:only-of-type {\n",
       "        vertical-align: middle;\n",
       "    }\n",
       "\n",
       "    .dataframe tbody tr th {\n",
       "        vertical-align: top;\n",
       "    }\n",
       "\n",
       "    .dataframe thead th {\n",
       "        text-align: right;\n",
       "    }\n",
       "</style>\n",
       "<table border=\"1\" class=\"dataframe\">\n",
       "  <thead>\n",
       "    <tr style=\"text-align: right;\">\n",
       "      <th></th>\n",
       "      <th>title</th>\n",
       "      <th>type</th>\n",
       "      <th>genres</th>\n",
       "      <th>releaseYear</th>\n",
       "      <th>imdbId</th>\n",
       "      <th>imdbAverageRating</th>\n",
       "      <th>imdbNumVotes</th>\n",
       "      <th>availableCountries</th>\n",
       "    </tr>\n",
       "  </thead>\n",
       "  <tbody>\n",
       "    <tr>\n",
       "      <th>0</th>\n",
       "      <td>American Beauty</td>\n",
       "      <td>movie</td>\n",
       "      <td>Drama</td>\n",
       "      <td>1999.0</td>\n",
       "      <td>tt0169547</td>\n",
       "      <td>8.3</td>\n",
       "      <td>1241156.0</td>\n",
       "      <td>NaN</td>\n",
       "    </tr>\n",
       "    <tr>\n",
       "      <th>1</th>\n",
       "      <td>The Fifth Element</td>\n",
       "      <td>movie</td>\n",
       "      <td>Action, Adventure, Sci-Fi</td>\n",
       "      <td>1997.0</td>\n",
       "      <td>tt0119116</td>\n",
       "      <td>7.6</td>\n",
       "      <td>522699.0</td>\n",
       "      <td>NaN</td>\n",
       "    </tr>\n",
       "    <tr>\n",
       "      <th>2</th>\n",
       "      <td>Kill Bill: Vol. 1</td>\n",
       "      <td>movie</td>\n",
       "      <td>Action, Crime, Thriller</td>\n",
       "      <td>2003.0</td>\n",
       "      <td>tt0266697</td>\n",
       "      <td>8.2</td>\n",
       "      <td>1238778.0</td>\n",
       "      <td>NaN</td>\n",
       "    </tr>\n",
       "    <tr>\n",
       "      <th>3</th>\n",
       "      <td>Jarhead</td>\n",
       "      <td>movie</td>\n",
       "      <td>Biography, Drama, War</td>\n",
       "      <td>2005.0</td>\n",
       "      <td>tt0418763</td>\n",
       "      <td>7.0</td>\n",
       "      <td>214024.0</td>\n",
       "      <td>NaN</td>\n",
       "    </tr>\n",
       "    <tr>\n",
       "      <th>4</th>\n",
       "      <td>Unforgiven</td>\n",
       "      <td>movie</td>\n",
       "      <td>Drama, Western</td>\n",
       "      <td>1992.0</td>\n",
       "      <td>tt0105695</td>\n",
       "      <td>8.2</td>\n",
       "      <td>449594.0</td>\n",
       "      <td>NaN</td>\n",
       "    </tr>\n",
       "  </tbody>\n",
       "</table>\n",
       "</div>"
      ],
      "text/plain": [
       "               title   type                     genres  releaseYear  \\\n",
       "0    American Beauty  movie                      Drama       1999.0   \n",
       "1  The Fifth Element  movie  Action, Adventure, Sci-Fi       1997.0   \n",
       "2  Kill Bill: Vol. 1  movie    Action, Crime, Thriller       2003.0   \n",
       "3            Jarhead  movie      Biography, Drama, War       2005.0   \n",
       "4         Unforgiven  movie             Drama, Western       1992.0   \n",
       "\n",
       "      imdbId  imdbAverageRating  imdbNumVotes availableCountries  \n",
       "0  tt0169547                8.3     1241156.0                NaN  \n",
       "1  tt0119116                7.6      522699.0                NaN  \n",
       "2  tt0266697                8.2     1238778.0                NaN  \n",
       "3  tt0418763                7.0      214024.0                NaN  \n",
       "4  tt0105695                8.2      449594.0                NaN  "
      ]
     },
     "metadata": {},
     "output_type": "display_data"
    },
    {
     "data": {
      "text/html": [
       "<div>\n",
       "<style scoped>\n",
       "    .dataframe tbody tr th:only-of-type {\n",
       "        vertical-align: middle;\n",
       "    }\n",
       "\n",
       "    .dataframe tbody tr th {\n",
       "        vertical-align: top;\n",
       "    }\n",
       "\n",
       "    .dataframe thead th {\n",
       "        text-align: right;\n",
       "    }\n",
       "</style>\n",
       "<table border=\"1\" class=\"dataframe\">\n",
       "  <thead>\n",
       "    <tr style=\"text-align: right;\">\n",
       "      <th></th>\n",
       "      <th>title</th>\n",
       "      <th>type</th>\n",
       "      <th>genres</th>\n",
       "      <th>releaseYear</th>\n",
       "      <th>imdbId</th>\n",
       "      <th>imdbAverageRating</th>\n",
       "      <th>imdbNumVotes</th>\n",
       "      <th>availableCountries</th>\n",
       "    </tr>\n",
       "  </thead>\n",
       "  <tbody>\n",
       "    <tr>\n",
       "      <th>0</th>\n",
       "      <td>Ariel</td>\n",
       "      <td>movie</td>\n",
       "      <td>Comedy, Crime, Romance</td>\n",
       "      <td>1988.0</td>\n",
       "      <td>tt0094675</td>\n",
       "      <td>7.4</td>\n",
       "      <td>8991.0</td>\n",
       "      <td>NaN</td>\n",
       "    </tr>\n",
       "    <tr>\n",
       "      <th>1</th>\n",
       "      <td>Four Rooms</td>\n",
       "      <td>movie</td>\n",
       "      <td>Comedy</td>\n",
       "      <td>1995.0</td>\n",
       "      <td>tt0113101</td>\n",
       "      <td>6.7</td>\n",
       "      <td>113546.0</td>\n",
       "      <td>NaN</td>\n",
       "    </tr>\n",
       "    <tr>\n",
       "      <th>2</th>\n",
       "      <td>Judgment Night</td>\n",
       "      <td>movie</td>\n",
       "      <td>Action, Crime, Drama</td>\n",
       "      <td>1993.0</td>\n",
       "      <td>tt0107286</td>\n",
       "      <td>6.6</td>\n",
       "      <td>19686.0</td>\n",
       "      <td>NaN</td>\n",
       "    </tr>\n",
       "    <tr>\n",
       "      <th>3</th>\n",
       "      <td>Forrest Gump</td>\n",
       "      <td>movie</td>\n",
       "      <td>Drama, Romance</td>\n",
       "      <td>1994.0</td>\n",
       "      <td>tt0109830</td>\n",
       "      <td>8.8</td>\n",
       "      <td>2354158.0</td>\n",
       "      <td>NaN</td>\n",
       "    </tr>\n",
       "    <tr>\n",
       "      <th>4</th>\n",
       "      <td>Citizen Kane</td>\n",
       "      <td>movie</td>\n",
       "      <td>Drama, Mystery</td>\n",
       "      <td>1941.0</td>\n",
       "      <td>tt0033467</td>\n",
       "      <td>8.3</td>\n",
       "      <td>478085.0</td>\n",
       "      <td>NaN</td>\n",
       "    </tr>\n",
       "  </tbody>\n",
       "</table>\n",
       "</div>"
      ],
      "text/plain": [
       "            title   type                  genres  releaseYear     imdbId  \\\n",
       "0           Ariel  movie  Comedy, Crime, Romance       1988.0  tt0094675   \n",
       "1      Four Rooms  movie                  Comedy       1995.0  tt0113101   \n",
       "2  Judgment Night  movie    Action, Crime, Drama       1993.0  tt0107286   \n",
       "3    Forrest Gump  movie          Drama, Romance       1994.0  tt0109830   \n",
       "4    Citizen Kane  movie          Drama, Mystery       1941.0  tt0033467   \n",
       "\n",
       "   imdbAverageRating  imdbNumVotes availableCountries  \n",
       "0                7.4        8991.0                NaN  \n",
       "1                6.7      113546.0                NaN  \n",
       "2                6.6       19686.0                NaN  \n",
       "3                8.8     2354158.0                NaN  \n",
       "4                8.3      478085.0                NaN  "
      ]
     },
     "metadata": {},
     "output_type": "display_data"
    }
   ],
   "source": [
    "# View the head of each service dataframe \n",
    "# Create a variable to include a list of all dataframes recently imported\n",
    "services = [apple, hulu, netflix, prime]\n",
    "# Display only the head of each dataframe separately\n",
    "for s in services:\n",
    "    display(s.head())"
   ]
  },
  {
   "cell_type": "code",
   "execution_count": 147,
   "metadata": {},
   "outputs": [
    {
     "data": {
      "text/plain": [
       "availableCountries\n",
       "US                                40\n",
       "CA                                13\n",
       "CA, US                             7\n",
       "GB                                 7\n",
       "ES                                 3\n",
       "AU, CA, NO, US                     2\n",
       "GB, US                             2\n",
       "DE                                 2\n",
       "AR, BR, CL, CO, MX                 1\n",
       "AT, CH, DE, FR, GB, IE, IT, US     1\n",
       "AU, US                             1\n",
       "AU                                 1\n",
       "FR                                 1\n",
       "IN                                 1\n",
       "Name: count, dtype: int64"
      ]
     },
     "execution_count": 147,
     "metadata": {},
     "output_type": "execute_result"
    }
   ],
   "source": [
    "apple.value_counts(\"availableCountries\")"
   ]
  },
  {
   "cell_type": "code",
   "execution_count": 141,
   "metadata": {},
   "outputs": [
    {
     "name": "stdout",
     "output_type": "stream",
     "text": [
      "The total row count is 119711 for all dataframes.\n"
     ]
    }
   ],
   "source": [
    "# Get a sum of the total row count from each dataframe\n",
    "total_rows = len(apple) + len(hulu) + len(netflix) + len(prime)\n",
    "print(f\"The total row count is {total_rows} for all dataframes.\")"
   ]
  },
  {
   "cell_type": "markdown",
   "metadata": {},
   "source": [
    "### **Initial Insights**\n",
    "- There are a total of 119,711 among all raw dataframes\n",
    "- Each dataframe contains the same column headings\n",
    "- None of the dataframes contain a column for the source of the dataframe\n",
    "- All numerical columns appear to be floats and don't need to be\n",
    "    - Change ***releaseYear*** and ***imdbNumVotes*** to integers\n",
    "- The majority of the titles displayed contain multiple genres in the ***genres*** column\n",
    "- The ***imdbId*** columns appear to match \n",
    "    - *American Beauty* in the 1st and 3rd dataframe\n",
    "    - *Forest Gump* in the 1st, 2nd and 4th dataframes\n",
    "- Of all the rows displayed, none include ***availableCountries*** data\n",
    "    - Further information proves that this data point is not prevelent throughout the four dataframes\n",
    "- The prices df appears to have a date column in month/year.\n",
    "    - I will need to reformat that date field.\n"
   ]
  },
  {
   "cell_type": "markdown",
   "metadata": {},
   "source": [
    "### **Preliminary Data Manipulation**"
   ]
  },
  {
   "cell_type": "code",
   "execution_count": 142,
   "metadata": {},
   "outputs": [
    {
     "data": {
      "text/html": [
       "<div>\n",
       "<style scoped>\n",
       "    .dataframe tbody tr th:only-of-type {\n",
       "        vertical-align: middle;\n",
       "    }\n",
       "\n",
       "    .dataframe tbody tr th {\n",
       "        vertical-align: top;\n",
       "    }\n",
       "\n",
       "    .dataframe thead th {\n",
       "        text-align: right;\n",
       "    }\n",
       "</style>\n",
       "<table border=\"1\" class=\"dataframe\">\n",
       "  <thead>\n",
       "    <tr style=\"text-align: right;\">\n",
       "      <th></th>\n",
       "      <th>title</th>\n",
       "      <th>type</th>\n",
       "      <th>genres</th>\n",
       "      <th>releaseYear</th>\n",
       "      <th>imdbId</th>\n",
       "      <th>imdbAverageRating</th>\n",
       "      <th>imdbNumVotes</th>\n",
       "      <th>availableCountries</th>\n",
       "      <th>Service_Name</th>\n",
       "      <th>Price</th>\n",
       "    </tr>\n",
       "  </thead>\n",
       "  <tbody>\n",
       "    <tr>\n",
       "      <th>0</th>\n",
       "      <td>Four Rooms</td>\n",
       "      <td>movie</td>\n",
       "      <td>Comedy</td>\n",
       "      <td>1995.0</td>\n",
       "      <td>tt0113101</td>\n",
       "      <td>6.7</td>\n",
       "      <td>113546.0</td>\n",
       "      <td>NaN</td>\n",
       "      <td>AppleTV</td>\n",
       "      <td>9.99</td>\n",
       "    </tr>\n",
       "    <tr>\n",
       "      <th>1</th>\n",
       "      <td>Forrest Gump</td>\n",
       "      <td>movie</td>\n",
       "      <td>Drama, Romance</td>\n",
       "      <td>1994.0</td>\n",
       "      <td>tt0109830</td>\n",
       "      <td>8.8</td>\n",
       "      <td>2354158.0</td>\n",
       "      <td>NaN</td>\n",
       "      <td>AppleTV</td>\n",
       "      <td>9.99</td>\n",
       "    </tr>\n",
       "  </tbody>\n",
       "</table>\n",
       "</div>"
      ],
      "text/plain": [
       "          title   type          genres  releaseYear     imdbId  \\\n",
       "0    Four Rooms  movie          Comedy       1995.0  tt0113101   \n",
       "1  Forrest Gump  movie  Drama, Romance       1994.0  tt0109830   \n",
       "\n",
       "   imdbAverageRating  imdbNumVotes availableCountries Service_Name  Price  \n",
       "0                6.7      113546.0                NaN      AppleTV   9.99  \n",
       "1                8.8     2354158.0                NaN      AppleTV   9.99  "
      ]
     },
     "metadata": {},
     "output_type": "display_data"
    },
    {
     "data": {
      "text/html": [
       "<div>\n",
       "<style scoped>\n",
       "    .dataframe tbody tr th:only-of-type {\n",
       "        vertical-align: middle;\n",
       "    }\n",
       "\n",
       "    .dataframe tbody tr th {\n",
       "        vertical-align: top;\n",
       "    }\n",
       "\n",
       "    .dataframe thead th {\n",
       "        text-align: right;\n",
       "    }\n",
       "</style>\n",
       "<table border=\"1\" class=\"dataframe\">\n",
       "  <thead>\n",
       "    <tr style=\"text-align: right;\">\n",
       "      <th></th>\n",
       "      <th>title</th>\n",
       "      <th>type</th>\n",
       "      <th>genres</th>\n",
       "      <th>releaseYear</th>\n",
       "      <th>imdbId</th>\n",
       "      <th>imdbAverageRating</th>\n",
       "      <th>imdbNumVotes</th>\n",
       "      <th>availableCountries</th>\n",
       "      <th>Service_Name</th>\n",
       "      <th>Price</th>\n",
       "    </tr>\n",
       "  </thead>\n",
       "  <tbody>\n",
       "    <tr>\n",
       "      <th>0</th>\n",
       "      <td>Ariel</td>\n",
       "      <td>movie</td>\n",
       "      <td>Comedy, Crime, Romance</td>\n",
       "      <td>1988.0</td>\n",
       "      <td>tt0094675</td>\n",
       "      <td>7.4</td>\n",
       "      <td>8991.0</td>\n",
       "      <td>NaN</td>\n",
       "      <td>Hulu</td>\n",
       "      <td>9.99</td>\n",
       "    </tr>\n",
       "    <tr>\n",
       "      <th>1</th>\n",
       "      <td>Shadows in Paradise</td>\n",
       "      <td>movie</td>\n",
       "      <td>Comedy, Drama, Music</td>\n",
       "      <td>1986.0</td>\n",
       "      <td>tt0092149</td>\n",
       "      <td>7.5</td>\n",
       "      <td>7792.0</td>\n",
       "      <td>NaN</td>\n",
       "      <td>Hulu</td>\n",
       "      <td>9.99</td>\n",
       "    </tr>\n",
       "  </tbody>\n",
       "</table>\n",
       "</div>"
      ],
      "text/plain": [
       "                 title   type                  genres  releaseYear     imdbId  \\\n",
       "0                Ariel  movie  Comedy, Crime, Romance       1988.0  tt0094675   \n",
       "1  Shadows in Paradise  movie    Comedy, Drama, Music       1986.0  tt0092149   \n",
       "\n",
       "   imdbAverageRating  imdbNumVotes availableCountries Service_Name  Price  \n",
       "0                7.4        8991.0                NaN         Hulu   9.99  \n",
       "1                7.5        7792.0                NaN         Hulu   9.99  "
      ]
     },
     "metadata": {},
     "output_type": "display_data"
    },
    {
     "data": {
      "text/html": [
       "<div>\n",
       "<style scoped>\n",
       "    .dataframe tbody tr th:only-of-type {\n",
       "        vertical-align: middle;\n",
       "    }\n",
       "\n",
       "    .dataframe tbody tr th {\n",
       "        vertical-align: top;\n",
       "    }\n",
       "\n",
       "    .dataframe thead th {\n",
       "        text-align: right;\n",
       "    }\n",
       "</style>\n",
       "<table border=\"1\" class=\"dataframe\">\n",
       "  <thead>\n",
       "    <tr style=\"text-align: right;\">\n",
       "      <th></th>\n",
       "      <th>title</th>\n",
       "      <th>type</th>\n",
       "      <th>genres</th>\n",
       "      <th>releaseYear</th>\n",
       "      <th>imdbId</th>\n",
       "      <th>imdbAverageRating</th>\n",
       "      <th>imdbNumVotes</th>\n",
       "      <th>availableCountries</th>\n",
       "      <th>Service_Name</th>\n",
       "      <th>Price</th>\n",
       "    </tr>\n",
       "  </thead>\n",
       "  <tbody>\n",
       "    <tr>\n",
       "      <th>0</th>\n",
       "      <td>American Beauty</td>\n",
       "      <td>movie</td>\n",
       "      <td>Drama</td>\n",
       "      <td>1999.0</td>\n",
       "      <td>tt0169547</td>\n",
       "      <td>8.3</td>\n",
       "      <td>1241156.0</td>\n",
       "      <td>NaN</td>\n",
       "      <td>Netflix</td>\n",
       "      <td>6.99</td>\n",
       "    </tr>\n",
       "    <tr>\n",
       "      <th>1</th>\n",
       "      <td>The Fifth Element</td>\n",
       "      <td>movie</td>\n",
       "      <td>Action, Adventure, Sci-Fi</td>\n",
       "      <td>1997.0</td>\n",
       "      <td>tt0119116</td>\n",
       "      <td>7.6</td>\n",
       "      <td>522699.0</td>\n",
       "      <td>NaN</td>\n",
       "      <td>Netflix</td>\n",
       "      <td>6.99</td>\n",
       "    </tr>\n",
       "  </tbody>\n",
       "</table>\n",
       "</div>"
      ],
      "text/plain": [
       "               title   type                     genres  releaseYear  \\\n",
       "0    American Beauty  movie                      Drama       1999.0   \n",
       "1  The Fifth Element  movie  Action, Adventure, Sci-Fi       1997.0   \n",
       "\n",
       "      imdbId  imdbAverageRating  imdbNumVotes availableCountries Service_Name  \\\n",
       "0  tt0169547                8.3     1241156.0                NaN      Netflix   \n",
       "1  tt0119116                7.6      522699.0                NaN      Netflix   \n",
       "\n",
       "   Price  \n",
       "0   6.99  \n",
       "1   6.99  "
      ]
     },
     "metadata": {},
     "output_type": "display_data"
    },
    {
     "data": {
      "text/html": [
       "<div>\n",
       "<style scoped>\n",
       "    .dataframe tbody tr th:only-of-type {\n",
       "        vertical-align: middle;\n",
       "    }\n",
       "\n",
       "    .dataframe tbody tr th {\n",
       "        vertical-align: top;\n",
       "    }\n",
       "\n",
       "    .dataframe thead th {\n",
       "        text-align: right;\n",
       "    }\n",
       "</style>\n",
       "<table border=\"1\" class=\"dataframe\">\n",
       "  <thead>\n",
       "    <tr style=\"text-align: right;\">\n",
       "      <th></th>\n",
       "      <th>title</th>\n",
       "      <th>type</th>\n",
       "      <th>genres</th>\n",
       "      <th>releaseYear</th>\n",
       "      <th>imdbId</th>\n",
       "      <th>imdbAverageRating</th>\n",
       "      <th>imdbNumVotes</th>\n",
       "      <th>availableCountries</th>\n",
       "      <th>Service_Name</th>\n",
       "      <th>Price</th>\n",
       "    </tr>\n",
       "  </thead>\n",
       "  <tbody>\n",
       "    <tr>\n",
       "      <th>0</th>\n",
       "      <td>Ariel</td>\n",
       "      <td>movie</td>\n",
       "      <td>Comedy, Crime, Romance</td>\n",
       "      <td>1988.0</td>\n",
       "      <td>tt0094675</td>\n",
       "      <td>7.4</td>\n",
       "      <td>8991.0</td>\n",
       "      <td>NaN</td>\n",
       "      <td>Prime</td>\n",
       "      <td>14.99</td>\n",
       "    </tr>\n",
       "    <tr>\n",
       "      <th>1</th>\n",
       "      <td>Four Rooms</td>\n",
       "      <td>movie</td>\n",
       "      <td>Comedy</td>\n",
       "      <td>1995.0</td>\n",
       "      <td>tt0113101</td>\n",
       "      <td>6.7</td>\n",
       "      <td>113546.0</td>\n",
       "      <td>NaN</td>\n",
       "      <td>Prime</td>\n",
       "      <td>14.99</td>\n",
       "    </tr>\n",
       "  </tbody>\n",
       "</table>\n",
       "</div>"
      ],
      "text/plain": [
       "        title   type                  genres  releaseYear     imdbId  \\\n",
       "0       Ariel  movie  Comedy, Crime, Romance       1988.0  tt0094675   \n",
       "1  Four Rooms  movie                  Comedy       1995.0  tt0113101   \n",
       "\n",
       "   imdbAverageRating  imdbNumVotes availableCountries Service_Name  Price  \n",
       "0                7.4        8991.0                NaN        Prime  14.99  \n",
       "1                6.7      113546.0                NaN        Prime  14.99  "
      ]
     },
     "metadata": {},
     "output_type": "display_data"
    }
   ],
   "source": [
    "# Add a column to each dataframe to identify the data source since individually they do not have an identifier. \n",
    "# This is to ensure the data is discernable after the merge when duplicate content is present\n",
    "apple[\"Service_Name\"] = \"AppleTV\"\n",
    "apple[\"Price\"] = 9.99\n",
    "hulu[\"Service_Name\"] = \"Hulu\"\n",
    "hulu[\"Price\"] = 9.99\n",
    "netflix[\"Service_Name\"] = \"Netflix\"\n",
    "netflix[\"Price\"] = 6.99\n",
    "prime[\"Service_Name\"] = \"Prime\"\n",
    "prime[\"Price\"] = 14.99\n",
    "\n",
    "\n",
    "# Using a previously made variable, created a for loop to run through each dataframe and display only the first two rows of each\n",
    "# This is to ensure the column names and values were added propertly\n",
    "for s in services:\n",
    "    display(s.head(2))"
   ]
  },
  {
   "cell_type": "markdown",
   "metadata": {},
   "source": [
    "### **Data Merge**"
   ]
  },
  {
   "cell_type": "code",
   "execution_count": 143,
   "metadata": {},
   "outputs": [
    {
     "name": "stdout",
     "output_type": "stream",
     "text": [
      "<class 'pandas.core.frame.DataFrame'>\n",
      "Index: 119711 entries, 0 to 70293\n",
      "Data columns (total 10 columns):\n",
      " #   Column              Non-Null Count   Dtype  \n",
      "---  ------              --------------   -----  \n",
      " 0   title               116151 non-null  object \n",
      " 1   type                119711 non-null  object \n",
      " 2   genres              116226 non-null  object \n",
      " 3   releaseYear         119419 non-null  float64\n",
      " 4   imdbId              109192 non-null  object \n",
      " 5   imdbAverageRating   105942 non-null  float64\n",
      " 6   imdbNumVotes        105942 non-null  float64\n",
      " 7   availableCountries  651 non-null     object \n",
      " 8   Service_Name        119711 non-null  object \n",
      " 9   Price               119711 non-null  float64\n",
      "dtypes: float64(4), object(6)\n",
      "memory usage: 10.0+ MB\n"
     ]
    }
   ],
   "source": [
    "# Merge the dataframes together into one by appending them to the end of each other since they are all using the same column names\n",
    "streaming_v1 = pd.concat([apple, hulu, netflix, prime], axis = 0)\n",
    "\n",
    "# Based on above initial review, check to ensure there are a total of 119,711 rows in the new dataframe\n",
    "streaming_v1.info()"
   ]
  },
  {
   "cell_type": "markdown",
   "metadata": {},
   "source": [
    "### **Data Cleaning & Preparation**"
   ]
  },
  {
   "cell_type": "code",
   "execution_count": null,
   "metadata": {},
   "outputs": [],
   "source": [
    "# Drop the availableCountries column given that less than 1% (0.0054%) of entries utilize this data element\n",
    "streaming_v1.drop(\"availableCountries\", axis = 1, inplace=True)\n",
    "\n",
    "# Display only the columns to ensure the dropped column is gone\n",
    "streaming_v1.columns"
   ]
  },
  {
   "cell_type": "code",
   "execution_count": null,
   "metadata": {},
   "outputs": [],
   "source": [
    "# Rename the columns \n",
    "streaming_v1.rename(columns={\"title\":\"Title\",\"type\":\"Content_Type\",\"genres\":\"Combined_Genres\",\"releaseYear\":\"Release_Year\",\"imdbId\":\"IMDb_ID\",\"imdbAverageRating\":\"IMDb_Avg_Rating\",\"imdbNumVotes\":\"IMDb_Votes_Count\"},inplace = True)\n",
    "streaming_v1.columns\n"
   ]
  },
  {
   "cell_type": "code",
   "execution_count": null,
   "metadata": {},
   "outputs": [],
   "source": [
    "# Change Release_Year, IMDb_Votes_Counts from floats to integers \n",
    "streaming_v1[[\"Release_Year\",\"IMDb_Votes_Count\"]] = streaming_v1[[\"Release_Year\",\"IMDb_Votes_Count\"]].apply(np.int64)\n",
    "# Change Service_Name & Combined_Genres to string\n",
    "streaming_v1[[\"Service_Name\",\"Combined_Genres\"]] == streaming_v1[[\"Service_Name\",\"Combined_Genres\"]].astype(str)\n",
    "\n",
    "# Display only the data types to ensure the data types were changed\n",
    "streaming_v1.info()"
   ]
  },
  {
   "cell_type": "code",
   "execution_count": null,
   "metadata": {},
   "outputs": [],
   "source": [
    "# Determine how many titles contain null values\n",
    "print(\"There are\",streaming_v1[\"Title\"].isna().sum(),\"rows with null values in the Title column.\")"
   ]
  },
  {
   "cell_type": "code",
   "execution_count": null,
   "metadata": {},
   "outputs": [],
   "source": [
    "# Drop the rows containing null values in the Title column\n",
    "streaming_v1 = streaming_v1.dropna(subset=[\"Title\"])\n",
    "\n",
    "# Ensure duplicate rows were dropped\n",
    "streaming_v1.info()\n",
    "\n",
    "# Can see in the results that the total entries went from 119,711 to 116,151, a drop of 3,560 rows\n"
   ]
  },
  {
   "cell_type": "code",
   "execution_count": null,
   "metadata": {},
   "outputs": [],
   "source": [
    "# Determine how many duplicated rows exist\n",
    "print(\"There are\", streaming_v1.duplicated().sum(),\"duplicated rows.\")"
   ]
  },
  {
   "cell_type": "code",
   "execution_count": null,
   "metadata": {},
   "outputs": [],
   "source": [
    "# Taking a look at the duplicated rows since there are so few & sort by title alphabetically with the default ascending\n",
    "streaming_v1[streaming_v1.duplicated(keep=False)].sort_values(\"Title\")"
   ]
  },
  {
   "cell_type": "code",
   "execution_count": null,
   "metadata": {},
   "outputs": [],
   "source": [
    "# Since the rows do appear to be fully dupliated, I will drop the duplicate rows here\n",
    "streaming_v2 = streaming_v1.drop_duplicates()\n",
    "\n",
    "# Reset the index\n",
    "streaming_v2 = streaming_v2.reset_index(drop=True)\n",
    "\n",
    "# View total of entires, which should equal 116143 (116151  - 8)\n",
    "streaming_v2.info()"
   ]
  },
  {
   "cell_type": "code",
   "execution_count": null,
   "metadata": {},
   "outputs": [],
   "source": [
    "# Determine how man rows include null values for Combined_Genres\n",
    "print(\"There are\",streaming_v1[\"Combined_Genres\"].isna().sum(),\"rows with null values in the Combined_Genres column.\")"
   ]
  },
  {
   "cell_type": "code",
   "execution_count": null,
   "metadata": {},
   "outputs": [],
   "source": [
    "# View the rows with null values for Combined_Genres\n",
    "# May need to address this later\n",
    "streaming_v1.loc[streaming_v1[\"Combined_Genres\"].isnull()]"
   ]
  },
  {
   "cell_type": "code",
   "execution_count": null,
   "metadata": {},
   "outputs": [],
   "source": [
    "# Now that duplicated rows are gone, I want to see if there might be duplicated content baesd on IMDb_ID, Release_Year, Title, Content_Type, and Service Name\n",
    "streaming_v2[streaming_v2.duplicated(subset = [\"IMDb_ID\",\"Title\",\"Release_Year\",\"Content_Type\",\"Service_Name\"], keep = False)].sort_values(by=[\"Title\",\"Service_Name\",\"Combined_Genres\"], ascending=[True,True,True])"
   ]
  },
  {
   "cell_type": "code",
   "execution_count": null,
   "metadata": {},
   "outputs": [],
   "source": [
    "# Based on the output above, I can see there is duplicated content and rows where genres could be combined into one row for each Service_Name\n",
    "\n",
    "# Remove the duplicated rows that have a null value in the Combined_Genres column by index number\n",
    "streaming_v3 = streaming_v2.drop([41702,12177,37721,89252,108129,108076,40887,102086,107404])\n",
    "# Reset index\n",
    "streaming_v3 = streaming_v3.reset_index(drop=True)\n",
    "# Double check\n",
    "streaming_v3[streaming_v3[\"Title\"] == \"The Final Ride\"]\n"
   ]
  },
  {
   "cell_type": "code",
   "execution_count": null,
   "metadata": {},
   "outputs": [],
   "source": [
    "# Redisplay the duplicated content baesd on IMDb_ID, Release_Year, Title, Content_Type, and Service Name\n",
    "\n",
    "grouped_dupes = streaming_v3[streaming_v3.duplicated(subset = [\"IMDb_ID\",\"Title\",\"Release_Year\",\"Content_Type\",\"Service_Name\"], keep = False)].sort_values(by=[\"Title\",\"Service_Name\",\"Combined_Genres\"], ascending=[True,True,True])\n",
    "grouped_dupes"
   ]
  },
  {
   "cell_type": "code",
   "execution_count": null,
   "metadata": {},
   "outputs": [],
   "source": [
    "# See AI_Notes.docx for more information on how this code block came about\n",
    "# Initialize an empty dictionary in which to store concatenated genres\n",
    "concatenated_genres = {}\n",
    "\n",
    "# Iterate over each row in the grouped_dupes dataframe\n",
    "for index, row in grouped_dupes.iterrows():\n",
    "    # Createa a unique key for each row in the grouped_dupes dataframe by combining certain columns\n",
    "    key = (row[\"Title\"], row[\"Content_Type\"],row[\"Release_Year\"], row[\"IMDb_ID\"], row[\"IMDb_Votes_Count\"], row[\"Service_Name\"])\n",
    "    # Checks if the key exists in the concatenated_genres dictionary & if so, append the new genres from the currnt row to the existing list of genres in the dictionary with a comma and space after each\n",
    "    if key in concatenated_genres:\n",
    "        concatenated_genres[key] += row[\"Combined_Genres\"] + ', '\n",
    "    # If the key doesn't exist in the dictionary, create a new entry in the dictionary with the combined genres from the current row, with a comma and a space\n",
    "    else:\n",
    "        concatenated_genres[key] = row[\"Combined_Genres\"] + ', '\n",
    "\n",
    "# Iniitialize a list to \n",
    "result_data = []\n",
    "# Iterate over each key-value pair in the concatenated_genres dictionary\n",
    "for key, genres in concatenated_genres.items():\n",
    "    # Append a new list to the result_data list which contains the key values and the genres with the trailing comma and space removed\n",
    "    result_data.append([key[0], key[1], genres[:-2], key[2], key[3], key[4], key[5]])\n",
    "\n",
    "# Create a new dataframe from the result_data list with specified column names\n",
    "result_df = pd.DataFrame(result_data, columns = [\"Title\",\"Content_Type\",\"Combined_Genres\",\"Release_Year\",\"IMDb_ID\",\"IMDb_Votes_Count\",\"Service_Name\"])\n",
    "# Create a new column in the new dataframe and assign the value of \"none\"\n",
    "# This was done because each time I attempted to add the IMDb_Avg_Rating column to the key list above, the code would fail because it is an integer column in the original dataframe\n",
    "result_df[\"IMDb_Avg_Rating\"] = \"None\"\n",
    "# Define a list of columns in the order in which I want them in the new dataframe\n",
    "column_titles = [\"Title\",\"Content_Type\",\"Combined_Genres\",\"Release_Year\",\"IMDb_ID\",\"IMDb_Avg_Rating\",\"IMDb_Votes_Count\",\"Service_Name\"]\n",
    "# reorder the columns in the new dataframe to match the specified order in the above code line\n",
    "result_df = result_df.reindex(columns=column_titles)\n",
    "# Display the new dataframe\n",
    "display(result_df)"
   ]
  },
  {
   "cell_type": "code",
   "execution_count": null,
   "metadata": {},
   "outputs": [],
   "source": [
    "# Append the newly created dataframe to the previous dataframe\n",
    "streaming_v4 = pd.concat([streaming_v3,result_df], axis = 0)\n",
    "\n",
    "# Reset the indeces\n",
    "streaming_v4.reset_index(drop=True) "
   ]
  },
  {
   "cell_type": "code",
   "execution_count": null,
   "metadata": {},
   "outputs": [],
   "source": [
    "# Check to ensure that one of the titles with a duplicate row matching title, content_type, release_year, and service_name, but with a null value is Genres is present with the correct combined genres\n",
    "streaming_v4[streaming_v4[\"Title\"] == \"The Final Ride\"]"
   ]
  },
  {
   "cell_type": "code",
   "execution_count": null,
   "metadata": {},
   "outputs": [],
   "source": [
    "display(streaming_v4[streaming_v4[\"Title\"] == \"Aurora\"])\n",
    "display(streaming_v4[streaming_v4[\"Title\"] == \"De olhos abertos\"]) \n",
    "display(streaming_v4[streaming_v4[\"Title\"] == \"Fences\"])\n",
    "display(streaming_v4[streaming_v4[\"Title\"] == \"Imago\"])\n",
    "display(streaming_v4[streaming_v4[\"Title\"] == \"Fences\"])\n",
    "display(streaming_v4[streaming_v4[\"Title\"] == \"Leonardo: The Man Who Saved Science\"])\n",
    "display(streaming_v4[streaming_v4[\"Title\"] == \"Stealing Chaplin\"])\n",
    "display(streaming_v4[streaming_v4[\"Title\"] == \"When life gives you lemons\"])"
   ]
  },
  {
   "cell_type": "code",
   "execution_count": null,
   "metadata": {},
   "outputs": [],
   "source": [
    "# streaming_v2[streaming_v2.duplicated(subset = [\"IMDb_ID\",\"Title\",\"Release_Year\",\"Content_Type\",\"Service_Name\"], keep = False)].sort_values(by=[\"Title\",\"Service_Name\",\"Combined_Genres\"], ascending=[True,True,True])\n",
    "streaming_v5 = streaming_v4.drop([92152,93061,13327,13556,42318,42623,105038,106205,103994,106324,105665,108035,93553,96736,107192,107203,56996,107581])"
   ]
  },
  {
   "cell_type": "code",
   "execution_count": null,
   "metadata": {},
   "outputs": [],
   "source": [
    "# Checking for the subset duplicates again\n",
    "streaming_v5[streaming_v5.duplicated(subset = [\"Title\",\"Content_Type\",\"Combined_Genres\",\"Release_Year\",\"IMDb_ID\",\"Service_Name\"], keep = False)].sort_values(by=[\"Title\",\"Combined_Genres\",\"Service_Name\"], ascending=[True,True,True]).sort_index()"
   ]
  },
  {
   "cell_type": "code",
   "execution_count": null,
   "metadata": {},
   "outputs": [],
   "source": [
    "# Checking a specific title to ensure of dropped rows\n",
    "display(streaming_v5[streaming_v5[\"Title\"] == \"Aurora\"])"
   ]
  },
  {
   "cell_type": "code",
   "execution_count": null,
   "metadata": {},
   "outputs": [],
   "source": [
    "streaming_v5.dtypes"
   ]
  },
  {
   "cell_type": "code",
   "execution_count": null,
   "metadata": {},
   "outputs": [],
   "source": [
    "# I see that my alterations to the rows above has changed my data type value, so I need to remove the \"None\" values from the IMDb_Avg_Rating column\n",
    "streaming_v5[\"IMDb_Avg_Rating\"] = streaming_v5[\"IMDb_Avg_Rating\"].replace(\"None\",pd.NA)\n",
    "# streaming_v5.value_counts(\"IMDb_Avg_Rating\")\n",
    "streaming_v5.dtypes\n"
   ]
  },
  {
   "cell_type": "code",
   "execution_count": null,
   "metadata": {},
   "outputs": [],
   "source": [
    "# An attempt to remove the duplicated Genre values in the Combined_Genres column prior to splitting the values into separate columns\n",
    "# def remove_duped_combined_genres(Combined_Genres):\n",
    "#     genres = Combined_Genres.str.split()\n",
    "#     unique_comb_genres = list(dict.fromkeys(genres))\n",
    "#     return ' '.join(unique_comb_genres)\n",
    "\n",
    "# streaming_v5[\"Combined_Genres\"] = streaming_v5[\"Combined_Genres\"].apply(remove_duped_combined_genres)"
   ]
  },
  {
   "cell_type": "code",
   "execution_count": null,
   "metadata": {},
   "outputs": [],
   "source": [
    "# Second attempt to remove the duplicated Genre values in the Combined_Genres column prior to splitting the values into separate columns\n",
    "# streaming_v5[\"Combined_Genres\"] = streaming_v5[\"Combined_Genres\"].apply(lambda x: ' '.join(set(x.split())))"
   ]
  },
  {
   "cell_type": "code",
   "execution_count": null,
   "metadata": {},
   "outputs": [],
   "source": [
    "# Still seeing the duplicated word \"Comedy\" in the COmbined_Genres column\n",
    "display(streaming_v5[streaming_v5[\"Title\"] == \"Breakfast at Tiffany's\"])"
   ]
  },
  {
   "cell_type": "code",
   "execution_count": null,
   "metadata": {},
   "outputs": [],
   "source": [
    "streaming_v5.info()"
   ]
  },
  {
   "cell_type": "code",
   "execution_count": null,
   "metadata": {},
   "outputs": [],
   "source": [
    "#Obtain max number of elements in the Genres column\n",
    "# streaming_v4[\"Combined_Genres\"].str.split(\", \",expand=True)\n"
   ]
  },
  {
   "cell_type": "code",
   "execution_count": null,
   "metadata": {},
   "outputs": [],
   "source": [
    "# Split the elements in the Genres column while creating new columns for the max number \n",
    "streaming_v5[[\"Genre_1\",\"Genre_2\",\"Genre_3\",\"Genre_4\",\"Genre_5\",\"Genre_6\",\"Genre_7\"]] = streaming_v5[\"Combined_Genres\"].str.split(',',expand=True)\n",
    "\n",
    "streaming_v5.head(2)"
   ]
  },
  {
   "cell_type": "code",
   "execution_count": null,
   "metadata": {},
   "outputs": [],
   "source": [
    "# Creating clean dataframe\n",
    "streaming_clean = streaming_v5"
   ]
  },
  {
   "cell_type": "code",
   "execution_count": null,
   "metadata": {},
   "outputs": [],
   "source": [
    "# Create a final CSV file from the cleaned dataframe to use in Tableau\n",
    "# Note this is commented out after the first run to create the file so the program doesn't fail\n",
    "\n",
    "# streaming_clean.to_csv(\"Streaming_Clean_Final.csv\", sep=\",\", index=False, header=True)"
   ]
  },
  {
   "cell_type": "markdown",
   "metadata": {},
   "source": [
    "### **Begin Analysis**"
   ]
  },
  {
   "cell_type": "markdown",
   "metadata": {},
   "source": [
    "### **Data Dictionary**\n",
    "This is the data dictionary associated with final dataframe, streaming_clean.\t\t\t\t\t\n",
    "\n",
    "| Field | Description | Source |  Data Type | Example |\n",
    "|:------|:------------|:-------|:---------- |:--------|\n",
    "| Title | The name of the movie or tv show. | From the original csv files| text string | Breakfast at Tiffany's |\n",
    "| Content_Type | The title content, either \"movie\" or \"tv.\" | Renamed from the original service platform dataframes. | text string | movie |\n",
    "| Combined_Genres | Includes all available genres in alphabetical order. | Renamed from the original service platform dataframes. | text string | Comedy, Drama, Romance |\n",
    "| Release_Year | The year the movie or tv show was released according to the streaming platform.  | Renamed from the original service platform dataframes. | int | 1961 |\n",
    "| IMDb_ID | The IMDb ID, if present, a unique value used in the URL of the IMDb content listing. | Renamed from the original service platform dataframes. | text string | tt0054698 |\n",
    "| IMDb_Avg_Rating | The average rating by customers on IMDb  | Renamed from the original service platform dataframes. | float | 7.6|\n",
    "| IMDb_Votes_Count | The total number of votes by customers on IMDb | Renamed from the original service platform dataframes. | int | 197447 |\n",
    "| Service_Name | The streaming platform name. | Created field based on the service from which the data came. | text string | AppleTV |\n",
    "| Genre_1 | The first genre in the Combined_Genres field, if present. | Created field from splitting the genres field from the original file into individual columns. | text string | Comedy |\n",
    "| Genre_2 | The second genre in the Combined_Genres field, if present. | Created field from splitting the genres field from the original file into individual columns. | text string | Drama |\n",
    "| Genre_3 | The third genre in the Combined_Genres field, if present. | Created field from splitting the genres field from the original file into individual columns. | text string | Romance |\n",
    "| Genre_4 | The fourth genre in the Combined_Genres field, if present. | Created field from splitting the genres field from the original file into individual columns. | text string | NaN | \n",
    "| Genre_5 | The fifth genre in the Combined_Genres field, if present. | Created field from splitting the genres field from the original file into individual columns. | text string | NaN |\n",
    "| Genre_6 | The sixth genre in the Combined_Genres field, if present. | Created field from splitting the genres field from the original file into individual columns. | text string | NaN |\n",
    "| Genre_7 | The seventh genre in the Combined_Genres field, if present. | Created field from splitting the genres field from the original file into individual columns. | text string | NaN | "
   ]
  },
  {
   "cell_type": "code",
   "execution_count": null,
   "metadata": {},
   "outputs": [],
   "source": [
    "streaming_clean.info()"
   ]
  },
  {
   "cell_type": "code",
   "execution_count": null,
   "metadata": {},
   "outputs": [],
   "source": [
    "# Hex Codes for streaming services\n",
    "# Apple: gray = #A3AAAE, blue = #009DDC\n",
    "# Hulu: greeen = #1CE783, black = #001908\n",
    "# Netflix: crimson = #E50914, black = #221F1F\n",
    "# Prime: orange = #FF9900, blue = #05A0D1, dark blue: #232F3E"
   ]
  },
  {
   "cell_type": "code",
   "execution_count": null,
   "metadata": {},
   "outputs": [],
   "source": [
    "# Crate a bar graph to show distribution of content types from the Content_Type column\n",
    "# Plot it with orange for \"movies\" and purple for \"tv\"\n",
    "streaming_clean[\"Content_Type\"].value_counts().plot(kind='bar',color=[\"orange\",\"purple\"])\n",
    "# Add a plot title\n",
    "plt.title(\"Streaming Service Content Type Distribution\")\n",
    "# Change the orientation of the x ticks\n",
    "plt.xticks(rotation = 360)\n",
    "# Relable the X axis\n",
    "plt.xlabel(\"Content Type\")\n",
    "# Show the bar graph \n",
    "plt.show()\n"
   ]
  },
  {
   "cell_type": "markdown",
   "metadata": {},
   "source": [
    "Content Type Analysis\n",
    "- Among the four streaming services analyzed, the majority of content is steeped in movies over tv shows\n",
    "- There appears to be nearly 5 times the amount of movies vs tv shows offered among all four platforms"
   ]
  },
  {
   "cell_type": "code",
   "execution_count": null,
   "metadata": {},
   "outputs": [],
   "source": [
    "# Plotting which streaming platform contains the most content\n",
    "chart = sn.countplot(streaming_clean, x = \"Service_Name\", hue = \"Service_Name\", palette = [\"#009DDC\",\"#1CE783\",\"#831010\",\"#FF9900\"])\n",
    "chart.set_ylabel(\"\")\n",
    "chart.set_xlabel(\"\")\n",
    "chart.set_title(\"Total Streaming Content by Platform\")\n",
    "plt.show()\n"
   ]
  },
  {
   "cell_type": "code",
   "execution_count": null,
   "metadata": {},
   "outputs": [],
   "source": [
    "# streaming_clean[\"Service_Name\"].value_counts().plot(kind='bar',color=[\"#FF9900\",\"#831010\",\"#A3AAAE\",\"#1CE783\"])\n",
    "# # Add a plot title\n",
    "# plt.title(\"Total Streaming Content by Platform\")\n",
    "# # Change the orientation of the x ticks\n",
    "# plt.xticks(rotation = 360)\n",
    "# # Show the bar graph \n",
    "# plt.show()"
   ]
  },
  {
   "cell_type": "code",
   "execution_count": null,
   "metadata": {},
   "outputs": [],
   "source": [
    "# Counts of the content type by streaming sesrvice\n",
    "\n",
    "# Hex Codes for streaming services\n",
    "# Apple: gray = #A3AAAE, blue = #009DDC\n",
    "# Hulu: greeen = #1CE783, black = #001908\n",
    "# Netflix: crimson = #D81F26, black = #221F1F\n",
    "# Prime: orange = #FF9900, blue = #05A0D1, dark blue: #232F3E\n",
    "\n",
    "# Define the colors for each content_type\n",
    "# movie_colors = [\"#A3AAAE\", \"#1CE783\", \"#D81F26\", \"#A3AAAE\"]\n",
    "# tv_colors = [\"#009DDC\", \"#001908\", \"#221F1F\", \"#232F3E\"]\n",
    "sn.countplot(streaming_clean, x = \"Service_Name\", hue = \"Content_Type\", palette = [\"#A3AAAE\", \"#1CE783\"])\n",
    "plt.xlabel(\"Service Name\")\n",
    "\n"
   ]
  },
  {
   "cell_type": "code",
   "execution_count": null,
   "metadata": {},
   "outputs": [],
   "source": [
    "# Let's compare apples to apples and stack the content types to compare total content among the four service providers\n",
    "\n",
    "# Group by Service_Name and count the number of each Content_Type\n",
    "cont_type = streaming_clean.groupby(\"Service_Name\")[\"Content_Type\"].value_counts().unstack(fill_value = 0)\n",
    "\n",
    "# Plot the result of the grouped data above as a stacked bar plot with specific coloring\n",
    "cont_type.plot(kind =  \"bar\", stacked = True, color = [\"#A3AAAE\", \"#009DDC\"])\n",
    "# Relable the x axis\n",
    "plt.xlabel(\"Service Name\")\n",
    "# Reposition the x labels so they are horizontal with the x axis\n",
    "plt.xticks(rotation = 360)\n",
    "# Create a graph title\n",
    "plt.title(\"Total Content by Content Type per Provider\")\n",
    "plt.show()"
   ]
  },
  {
   "cell_type": "code",
   "execution_count": null,
   "metadata": {},
   "outputs": [],
   "source": [
    "# Attempt at adding value_count labels \n",
    "# Group by Service_Name and count the number of each Content_Type\n",
    "cont_type = streaming_clean.groupby([\"Service_Name\", \"Content_Type\"]).size().reset_index(name=\"count\")\n",
    "\n",
    "# Plot the result of the grouped data above as a stacked bar plot with specific coloring\n",
    "cont_typepivot = cont_type.pivot_table(index=\"Service_Name\", columns=\"Content_Type\", values=\"count\", fill_value=0)\n",
    "cont_typepivot.plot(kind =  \"bar\", stacked = True, color = [\"#A3AAAE\", \"#009DDC\"])\n",
    "\n",
    "# Relable the x axis\n",
    "plt.xlabel(\"Service Name\")\n",
    "# Reposition the x labels so they are horizontal with the x axis\n",
    "plt.xticks(rotation = 360)\n",
    "# Create a chart title\n",
    "plt.title(\"Total Content by Content Type per Provider\")\n",
    "\n",
    "# Get the height of the bars\n",
    "bar_heights = cont_typepivot.iloc[0].values\n",
    "\n",
    "# Get the x positions of the bars\n",
    "bar_positions = range(len(cont_typepivot.columns))\n",
    "\n",
    "# Create value count labels inside the bars on the graph\n",
    "for i, height in enumerate(bar_heights):\n",
    "    if height > 0:\n",
    "        plt.text(bar_positions[i], height + 5, str(int(height)), ha='center', va='bottom')\n",
    "\n",
    "# Show the plot\n",
    "plt.show()"
   ]
  },
  {
   "cell_type": "markdown",
   "metadata": {},
   "source": [
    "Content Type Analysis\n",
    "- At first glance, the Prime content catalog appears to be nearly twice that of other providers\n",
    "    - This is because much of the content within Prime is either available for rent or through a secondary subscription service"
   ]
  },
  {
   "cell_type": "code",
   "execution_count": null,
   "metadata": {},
   "outputs": [],
   "source": [
    "combined_null = streaming_clean[\"Combined_Genres\"].isnull().sum()\n",
    "\n",
    "print(f\"There are {combined_null} null values in the Combined_Genres column.\")"
   ]
  },
  {
   "cell_type": "code",
   "execution_count": null,
   "metadata": {},
   "outputs": [],
   "source": [
    "# Create a value count variable for the top 10 value cgenres in the Combined_Genres column and count them\n",
    "genre_counts = streaming_clean[\"Combined_Genres\"].value_counts().head(10)\n",
    "# Plot the genres\n",
    "genre_counts.plot.bar()\n",
    "\n",
    "# Creating a loop to put the value count of each genre count into the middle of its respective bar vertically in white font\n",
    "for p in plt.gca().patches:\n",
    "    height = p.get_height()\n",
    "    plt.gca().text(p.get_x() + p.get_width()/2, height/2, str(height), ha = \"center\", color = \"white\", rotation = 90)\n",
    "\n",
    "# create a Combined Genres label on the x axis\n",
    "plt.xlabel(\"Combined Genres\")\n",
    "# rotate x-labels to 45 degree angle with a right text orientation\n",
    "plt.xticks(rotation = 45, ha = \"right\")\n",
    "# create a graph title\n",
    "plt.title(\"Top 10 Combined Genres Among All Streaming Services\")\n",
    "# Show the plot\n",
    "plt.show()"
   ]
  },
  {
   "cell_type": "markdown",
   "metadata": {},
   "source": [
    "Cobmined Genres Analysis\n",
    "- Of the values in the Combined_Genres column, 2,204 are null. \n",
    "- The tope three values within the Combined_Genres column are actually individual genres comprising of # of the overall content among all service providers\n",
    "- Within the top 5 genres, Drama was paired with Comedy # times and with Romance # times\n",
    "- While horror is 6th in the list, it is also an individual genre "
   ]
  },
  {
   "cell_type": "code",
   "execution_count": null,
   "metadata": {},
   "outputs": [],
   "source": [
    "# Looking for the top 10 genres offered among the streaming services based on the first genre listed in the Combined_Genres column parsed into the Genre_1 column\n",
    "# Create a value count variable for the top 10 value cgenres in the Combined_Genres column and count them\n",
    "genre_counts = streaming_clean[\"Genre_1\"].value_counts().head(10)\n",
    "# Plot the genres\n",
    "genre_counts.plot.bar()\n",
    "\n",
    "# Creating a loop to put the value count of each genre count into the middle of its respective bar vertically in white font\n",
    "for i, p in enumerate(plt.gca().patches):\n",
    "    height = p.get_height()\n",
    "    # For all bars but last two, show the label inside the bar with white font\n",
    "    if height < 10: \n",
    "        plt.gca().text(p.get_x() + p.get_width()/2, height + 10, str(height), ha = \"center\", color = \"black\")\n",
    "    elif i < len(plt.gca().patches) - 2:\n",
    "        plt.gca().text(p.get_x() + p.get_width()/2, height/2, str(height), ha = \"center\", color = \"white\", rotation = 90)\n",
    "    else: \n",
    "        # For the last two columns, put label above the bar in black font\n",
    "        plt.gca().text(p.get_x() + p.get_width()/2, height + 10, str(height), ha = \"center\", color = \"black\", rotation = 90)\n",
    "\n",
    "# create a Combined Genres label on the x axis\n",
    "plt.xlabel(\"Genres\")\n",
    "# rotate x-labels to 45 degree angle with a right text orientation\n",
    "plt.xticks(rotation = 45, ha = \"right\")\n",
    "# create a graph title\n",
    "plt.title(\"Top 10 Individual Genres Among All Streaming Services\")\n",
    "# Show the plot\n",
    "plt.show()\n"
   ]
  },
  {
   "cell_type": "markdown",
   "metadata": {},
   "source": [
    "The top 10 individual genres among all four streaming platforms are \n",
    "1. Drama\n",
    "2. Comedy\n",
    "3. Action\n",
    "4. Documentary\n",
    "5. Crime\n",
    "6. Horor\n",
    "7. Adventure\n",
    "8. Biography\n",
    "9. Animation\n",
    "10. Thriller\n",
    "\n",
    "Not surprisingly, Drama and Comedy make up the top two individual genre categories. Note that the Romance category hasn't made the top 10 of individual genres. "
   ]
  },
  {
   "cell_type": "code",
   "execution_count": null,
   "metadata": {},
   "outputs": [],
   "source": [
    "# streaming_clean[[\"Genre_1\",\"IMDb_Avg_Rating\"]].value_counts().head(10).plot.bar(x = \"Genre_1\", y = \"IMDb_Avg_Rating\")"
   ]
  },
  {
   "cell_type": "code",
   "execution_count": null,
   "metadata": {},
   "outputs": [],
   "source": [
    "# Separate the AppleTV rows from the rest of the df\n",
    "apple_tv = streaming_clean[streaming_clean[\"Service_Name\"] == \"AppleTV\"] \n",
    "# Group the Genre_1 column and get the total counts for each genre\n",
    "apple_tv_genres = apple_tv.groupby(\"Genre_1\")[\"Genre_1\"].count().reset_index(name = \"Count\")\n",
    "# Ascertain the top 5 genres\n",
    "top_apple_tv_genres = apple_tv_genres.sort_values(\"Count\", ascending = False).head(6)\n",
    "\n",
    "plt.figure(figsize = (8, 6))\n",
    "sn.barplot(x = top_apple_tv_genres[\"Genre_1\"], y = top_apple_tv_genres[\"Count\"])\n",
    "plt.xlabel(\"Individual Genres from Genre_1 Column\")\n",
    "plt.ylabel(None)\n",
    "plt.title(\"Top 5 AppleTV Genres\")\n",
    "\n",
    "plt.show\n"
   ]
  },
  {
   "cell_type": "code",
   "execution_count": null,
   "metadata": {},
   "outputs": [],
   "source": [
    "# Group the Genre_1 column and get the total counts for each genre\n",
    "apple_tv_genres = apple_tv.groupby(\"Combined_Genres\")[\"Combined_Genres\"].count().reset_index(name = \"Count\")\n",
    "# Ascertain the top 5 genres\n",
    "top_apple_tv_genres = apple_tv_genres.sort_values(\"Count\", ascending = False).head(6)\n",
    "\n",
    "plt.figure(figsize = (8, 6))\n",
    "sn.barplot(x = top_apple_tv_genres[\"Combined_Genres\"], y = top_apple_tv_genres[\"Count\"])\n",
    "plt.xlabel(\"Genres\")\n",
    "plt.ylabel(None)\n",
    "plt.xticks(rotation = 45)\n",
    "plt.title(\"Top 5 AppleTV Combined Genres\")\n",
    "\n",
    "plt.show()"
   ]
  },
  {
   "cell_type": "code",
   "execution_count": null,
   "metadata": {},
   "outputs": [],
   "source": [
    "# Create variable with value counts of each release year\n",
    "release_yr_cnts = apple_tv[\"Release_Year\"].value_counts()\n",
    "\n",
    "# Convert the index of the Release Years from integers to strings because WordCloud requires strings inputs\n",
    "release_yr_cnts.index = release_yr_cnts.index.map(str)\n",
    "\n",
    "# Create the WordCloud specifying \n",
    "apple_tv_wordcloud = WordCloud(width = 800, height = 400, background_color = \"black\").generate_from_frequencies(release_yr_cnts)\n",
    "\n",
    "# Setting figure size in inches\n",
    "plt.figure(figsize = (12, 8))\n",
    "# Show the created WordCloud with a bilinear interpolation, which is used to estimate the value of pixels used to generate the image\n",
    "plt.imshow(apple_tv_wordcloud, interpolation = \"bilinear\")\n",
    "# Do not display axes\n",
    "plt.axis(\"off\")\n",
    "# Create a title for the WordCloud\n",
    "plt.title(\"AppleTV Release Years WordCloud\")\n",
    "# Show the plot\n",
    "plt.show()"
   ]
  },
  {
   "cell_type": "code",
   "execution_count": null,
   "metadata": {},
   "outputs": [],
   "source": [
    "# Separate the Hulu rows from the rest of the df\n",
    "hulu_tv = streaming_clean[streaming_clean[\"Service_Name\"] == \"Hulu\"] \n",
    "# Group the Genre_1 column and get the total counts for each genre\n",
    "hulu_tv_genres = hulu_tv.groupby(\"Genre_1\")[\"Genre_1\"].count().reset_index(name = \"Count\")\n",
    "# Ascertain the top 5 genres\n",
    "top_hulu_tv_genres = hulu_tv_genres.sort_values(\"Count\", ascending = False).head(6)\n",
    "\n",
    "plt.figure(figsize = (8, 6))\n",
    "sn.barplot(x = top_hulu_tv_genres[\"Genre_1\"], y = top_hulu_tv_genres[\"Count\"])\n",
    "plt.xlabel(\"Individual Genres from Genre_1 Column\")\n",
    "plt.ylabel(None)\n",
    "plt.title(\"Top 5 Hulu Genres\")\n",
    "\n",
    "plt.show\n"
   ]
  },
  {
   "cell_type": "code",
   "execution_count": null,
   "metadata": {},
   "outputs": [],
   "source": [
    "# Group the Genre_1 column and get the total counts for each genre\n",
    "hulu_tv_genres = hulu_tv.groupby(\"Combined_Genres\")[\"Combined_Genres\"].count().reset_index(name = \"Count\")\n",
    "# Ascertain the top 5 genres\n",
    "top_hulu_tv_genres = hulu_tv_genres.sort_values(\"Count\", ascending = False).head(6)\n",
    "\n",
    "plt.figure(figsize = (8, 6))\n",
    "sn.barplot(x = top_hulu_tv_genres[\"Combined_Genres\"], y = top_hulu_tv_genres[\"Count\"])\n",
    "plt.xlabel(\"Genres\")\n",
    "plt.ylabel(None)\n",
    "plt.xticks(rotation = 45)\n",
    "plt.title(\"Top 5 Hulu Combined Genres\")\n",
    "\n",
    "plt.show()"
   ]
  },
  {
   "cell_type": "code",
   "execution_count": null,
   "metadata": {},
   "outputs": [],
   "source": [
    "# Create variable with value counts of each release year\n",
    "release_yr_cnts = hulu_tv[\"Release_Year\"].value_counts()\n",
    "\n",
    "# Convert the index of the Release Years from integers to strings because WordCloud requires strings inputs\n",
    "release_yr_cnts.index = release_yr_cnts.index.map(str)\n",
    "\n",
    "# Create the WordCloud specifying \n",
    "hulu_tv_wordcloud = WordCloud(width = 800, height = 400, background_color = \"black\").generate_from_frequencies(release_yr_cnts)\n",
    "\n",
    "# Setting figure size in inches\n",
    "plt.figure(figsize = (12, 8))\n",
    "# Show the created WordCloud with a bilinear interpolation, which is used to estimate the value of pixels used to generate the image\n",
    "plt.imshow(hulu_tv_wordcloud, interpolation = \"bilinear\")\n",
    "# Do not display axes\n",
    "plt.axis(\"off\")\n",
    "# Create a title for the WordCloud\n",
    "plt.title(\"Hulu Release Years WordCloud\")\n",
    "# Show the plot\n",
    "plt.show()"
   ]
  },
  {
   "cell_type": "code",
   "execution_count": null,
   "metadata": {},
   "outputs": [],
   "source": [
    "# Separate the Hulu rows from the rest of the df\n",
    "netflix_tv = streaming_clean[streaming_clean[\"Service_Name\"] == \"Netflix\"] \n",
    "# Group the Genre_1 column and get the total counts for each genre\n",
    "netflix_tv_genres = netflix_tv.groupby(\"Genre_1\")[\"Genre_1\"].count().reset_index(name = \"Count\")\n",
    "# Ascertain the top 5 genres\n",
    "top_netflix_tv_genres = netflix_tv_genres.sort_values(\"Count\", ascending = False).head(6)\n",
    "\n",
    "plt.figure(figsize = (8, 6))\n",
    "sn.barplot(x = top_netflix_tv_genres[\"Genre_1\"], y = top_netflix_tv_genres[\"Count\"])\n",
    "plt.xlabel(\"Individual Genres from Genre_1 Column\")\n",
    "plt.ylabel(None)\n",
    "plt.title(\"Top 5 Netflix Genres\")\n",
    "\n",
    "plt.show"
   ]
  },
  {
   "cell_type": "code",
   "execution_count": null,
   "metadata": {},
   "outputs": [],
   "source": [
    "# Group the Genre_1 column and get the total counts for each genre\n",
    "netflix_tv_genres = netflix_tv.groupby(\"Combined_Genres\")[\"Combined_Genres\"].count().reset_index(name = \"Count\")\n",
    "# Ascertain the top 5 genres\n",
    "top_netflix_tv_genres = netflix_tv_genres.sort_values(\"Count\", ascending = False).head(6)\n",
    "\n",
    "plt.figure(figsize = (8, 6))\n",
    "sn.barplot(x = top_apple_tv_genres[\"Combined_Genres\"], y = top_apple_tv_genres[\"Count\"])\n",
    "plt.xlabel(\"Genres\")\n",
    "plt.ylabel(None)\n",
    "plt.xticks(rotation = 45)\n",
    "plt.title(\"Top 5 Netflix Combined Genres\")\n",
    "\n",
    "\n",
    "plt.show"
   ]
  },
  {
   "cell_type": "code",
   "execution_count": null,
   "metadata": {},
   "outputs": [],
   "source": [
    "# Create variable with value counts of each release year\n",
    "release_yr_cnts = netflix_tv[\"Release_Year\"].value_counts()\n",
    "\n",
    "# Convert the index of the Release Years from integers to strings because WordCloud requires strings inputs\n",
    "release_yr_cnts.index = release_yr_cnts.index.map(str)\n",
    "\n",
    "# Create the WordCloud specifying \n",
    "netflix_tv_wordcloud = WordCloud(width = 800, height = 400, background_color = \"black\").generate_from_frequencies(release_yr_cnts)\n",
    "\n",
    "# Setting figure size in inches\n",
    "plt.figure(figsize = (12, 8))\n",
    "# Show the created WordCloud with a bilinear interpolation, which is used to estimate the value of pixels used to generate the image\n",
    "plt.imshow(netflix_tv_wordcloud, interpolation = \"bilinear\")\n",
    "# Do not display axes\n",
    "plt.axis(\"off\")\n",
    "# Create a title for the WordCloud\n",
    "plt.title(\"Netflix Release Years WordCloud\")\n",
    "# Show the plot\n",
    "plt.show()"
   ]
  },
  {
   "cell_type": "code",
   "execution_count": null,
   "metadata": {},
   "outputs": [],
   "source": [
    "# Separate the Hulu rows from the rest of the df\n",
    "prime_tv = streaming_clean[streaming_clean[\"Service_Name\"] == \"Prime\"] \n",
    "# Group the Genre_1 column and get the total counts for each genre\n",
    "prime_tv_genres = prime_tv.groupby(\"Genre_1\")[\"Genre_1\"].count().reset_index(name = \"Count\")\n",
    "# Ascertain the top 5 genres\n",
    "top_prime_tv_genres = prime_tv_genres.sort_values(\"Count\", ascending = False).head(6)\n",
    "\n",
    "plt.figure(figsize = (8, 6))\n",
    "sn.barplot(x = top_prime_tv_genres[\"Genre_1\"], y = top_prime_tv_genres[\"Count\"])\n",
    "plt.xlabel(\"Individual Genres from Genre_1 Column\")\n",
    "plt.ylabel(None)\n",
    "plt.title(\"Top 5 Prime Genres\")\n",
    "\n",
    "plt.show"
   ]
  },
  {
   "cell_type": "code",
   "execution_count": null,
   "metadata": {},
   "outputs": [],
   "source": [
    "# Group the Genre_1 column and get the total counts for each genre\n",
    "prime_tv_genres = prime_tv.groupby(\"Combined_Genres\")[\"Combined_Genres\"].count().reset_index(name = \"Count\")\n",
    "# Ascertain the top 5 genres\n",
    "top_prime_tv_genres = prime_tv_genres.sort_values(\"Count\", ascending = False).head(6)\n",
    "\n",
    "plt.figure(figsize = (8, 6))\n",
    "sn.barplot(x = top_prime_tv_genres[\"Combined_Genres\"], y = top_prime_tv_genres[\"Count\"])\n",
    "plt.xlabel(\"Genres\")\n",
    "plt.ylabel(None)\n",
    "plt.xticks(rotation = 45)\n",
    "plt.title(\"Top 5 Prime Combined Genres\")\n",
    "\n",
    "plt.show()"
   ]
  },
  {
   "cell_type": "code",
   "execution_count": null,
   "metadata": {},
   "outputs": [],
   "source": [
    "# Create variable with value counts of each release year\n",
    "release_yr_cnts = prime_tv[\"Release_Year\"].value_counts()\n",
    "\n",
    "# Convert the index of the Release Years from integers to strings because WordCloud requires strings inputs\n",
    "release_yr_cnts.index = release_yr_cnts.index.map(str)\n",
    "\n",
    "# Create the WordCloud specifying \n",
    "prime_tv_wordcloud = WordCloud(width = 800, height = 400, background_color = \"black\").generate_from_frequencies(release_yr_cnts)\n",
    "\n",
    "# Setting figure size in inches\n",
    "plt.figure(figsize = (12, 8))\n",
    "# Show the created WordCloud with a bilinear interpolation, which is used to estimate the value of pixels used to generate the image\n",
    "plt.imshow(prime_tv_wordcloud, interpolation = \"bilinear\")\n",
    "# Do not display axes\n",
    "plt.axis(\"off\")\n",
    "# Create a title for the WordCloud\n",
    "plt.title(\"Prime Release Years WordCloud\")\n",
    "# Show the plot\n",
    "plt.show()"
   ]
  },
  {
   "cell_type": "code",
   "execution_count": null,
   "metadata": {},
   "outputs": [],
   "source": [
    "# streaming_clean[streaming_clean[\"Title\"] == \"Tracker\"]\n",
    "streaming_clean[streaming_clean[\"Title\"].isin([\"Tracker\", \"Elsbeth\"])]\n"
   ]
  },
  {
   "cell_type": "code",
   "execution_count": null,
   "metadata": {},
   "outputs": [],
   "source": [
    "streaming_clean.dtypes"
   ]
  }
 ],
 "metadata": {
  "kernelspec": {
   "display_name": "venv",
   "language": "python",
   "name": "python3"
  },
  "language_info": {
   "codemirror_mode": {
    "name": "ipython",
    "version": 3
   },
   "file_extension": ".py",
   "mimetype": "text/x-python",
   "name": "python",
   "nbconvert_exporter": "python",
   "pygments_lexer": "ipython3",
   "version": "3.13.0"
  }
 },
 "nbformat": 4,
 "nbformat_minor": 2
}
