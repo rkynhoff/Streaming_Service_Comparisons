{
 "cells": [
  {
   "cell_type": "markdown",
   "metadata": {},
   "source": [
    "# <u>**Streaming Service Comparison**</u>\n",
    "\n",
    "### **Objective:**\n",
    "- Determine which streaming platform hosts the majority of content I enjoy so that I can pare down the services to which I subscribe. \n",
    "\n",
    "### **Data Sources:**\n",
    "- [Netflix via Kaggle.com](https://www.kaggle.com/datasets/octopusteam/full-netflix-dataset)\n",
    "- [Hulu via Kaggle.com](https://www.kaggle.com/datasets/octopusteam/full-hulu-dataset)\n",
    "- [Prime via Kaggle.com](https://www.kaggle.com/datasets/octopusteam/full-amazon-prime-dataset/data)\n",
    "- [AppleTV via Kaggle.com](https://www.kaggle.com/datasets/octopusteam/full-apple-tv-dataset)\n",
    "\n",
    "## **Data Collection & Loading**\n",
    "\n",
    "### **Import Pandas, Numpy, Matplotlib, Wordcloud, and PIL**"
   ]
  },
  {
   "cell_type": "code",
   "execution_count": null,
   "metadata": {},
   "outputs": [],
   "source": [
    "import glob\n",
    "import pandas as pd\n",
    "import numpy as np\n",
    "import matplotlib.pyplot as plt\n",
    "import wordcloud as wc\n",
    "from PIL import Image"
   ]
  },
  {
   "cell_type": "markdown",
   "metadata": {},
   "source": [
    "### **Data Load**"
   ]
  },
  {
   "cell_type": "code",
   "execution_count": null,
   "metadata": {},
   "outputs": [],
   "source": [
    "# Load in each file separately. \n",
    "# Plan to create a function for this or NOT\n",
    "apple = pd.read_csv(\"AppleTV.csv\")\n",
    "hulu = pd.read_csv(\"Hulu.csv\")\n",
    "netflix = pd.read_csv(\"Netflix.csv\")\n",
    "prime = pd.read_csv(\"Prime.csv\")"
   ]
  },
  {
   "cell_type": "markdown",
   "metadata": {},
   "source": [
    "### **Apple**   "
   ]
  },
  {
   "cell_type": "code",
   "execution_count": null,
   "metadata": {},
   "outputs": [],
   "source": [
    "#display(apple)\n",
    "# apple.head(3)\n",
    "# hulu.head(3)\n",
    "# netflix.head(3)\n",
    "# prime.head(3)\n",
    "#display(apple)\n",
    "print(apple.head(3))\n",
    "print(hulu.head(3))\n",
    "print(netflix.head(3))\n",
    "print(prime.head(3))"
   ]
  },
  {
   "cell_type": "code",
   "execution_count": null,
   "metadata": {},
   "outputs": [],
   "source": [
    "# Dispaly information about the dataset (i.e., row counts, column counts, column names, datatypes, # of non-null rows)\n",
    "apple.info()"
   ]
  },
  {
   "cell_type": "code",
   "execution_count": null,
   "metadata": {},
   "outputs": [],
   "source": [
    "apple.describe()"
   ]
  },
  {
   "cell_type": "code",
   "execution_count": null,
   "metadata": {},
   "outputs": [],
   "source": [
    "apple.select_dtypes(\"object\").describe()"
   ]
  },
  {
   "cell_type": "code",
   "execution_count": null,
   "metadata": {},
   "outputs": [],
   "source": [
    "# Drop availableCountries Column - no value with such a low non-null number\n",
    "apple.drop(\"availableCountries\",axis=1,inplace=True)\n",
    "apple.columns"
   ]
  },
  {
   "cell_type": "code",
   "execution_count": null,
   "metadata": {},
   "outputs": [],
   "source": [
    "# Change releaseYear,  imdbNumVotes to integers \n",
    "# Display only the data types\n",
    "\n",
    "apple[[\"releaseYear\",\"imdbNumVotes\"]] = apple[[\"releaseYear\",\"imdbNumVotes\"]].apply(np.int64)\n",
    "display(apple.dtypes)"
   ]
  },
  {
   "cell_type": "code",
   "execution_count": null,
   "metadata": {},
   "outputs": [],
   "source": [
    "# Rename Columns\n",
    "apple.rename(columns={\"title\":\"Title\",\"type\":\"Type\",\"genres\":\"Genres\",\"releaseYear\":\"Release Year\",\"imdbId\":\"IMDb ID\",\"imdbAverageRating\":\"IMDb Average Rating\",\"imdbNumVotes\":\"IMDb Num Votes\"},inplace = True)\n",
    "# Add a column to hulu DF and entered a default value for each row & display bottom two rows\n",
    "apple[\"Service Name\"] = \"AppleTV\"\n",
    "apple.columns"
   ]
  },
  {
   "cell_type": "code",
   "execution_count": null,
   "metadata": {},
   "outputs": [],
   "source": [
    "# Determine how many titles contain null values\n",
    "apple[\"Title\"].isna().sum()"
   ]
  },
  {
   "cell_type": "code",
   "execution_count": null,
   "metadata": {},
   "outputs": [],
   "source": [
    "# Drop the rows contiaining null values in the Title column\n",
    "apple = apple.dropna(subset=[\"Title\"])\n",
    "apple[\"Title\"].isna().sum()\n"
   ]
  },
  {
   "cell_type": "code",
   "execution_count": null,
   "metadata": {},
   "outputs": [],
   "source": [
    "apple.duplicated().value_counts()"
   ]
  },
  {
   "cell_type": "code",
   "execution_count": null,
   "metadata": {},
   "outputs": [],
   "source": [
    "apple[apple.duplicated(keep=False)]"
   ]
  },
  {
   "cell_type": "code",
   "execution_count": null,
   "metadata": {},
   "outputs": [],
   "source": [
    "apple.drop_duplicates()\n"
   ]
  },
  {
   "cell_type": "code",
   "execution_count": null,
   "metadata": {},
   "outputs": [],
   "source": [
    "#apple.genres.value_counts()\n",
    "# apple['genres'].str.split(',', expand=True)\n",
    "apple[[\"Genre 1\",\"Genre 2\",\"Genre 3\",\"Genre 4\",\"Genre 5\",\"Genre 6\"]] = apple[\"Genres\"].str.split(',',expand=True)\n",
    "\n",
    "display(apple)\n",
    "\n"
   ]
  },
  {
   "cell_type": "markdown",
   "metadata": {},
   "source": [
    "### **Hulu**"
   ]
  },
  {
   "cell_type": "code",
   "execution_count": null,
   "metadata": {},
   "outputs": [],
   "source": [
    "# View top 5 rows in the hulu df\n",
    "hulu.head()"
   ]
  },
  {
   "cell_type": "code",
   "execution_count": null,
   "metadata": {},
   "outputs": [],
   "source": [
    "hulu.info()"
   ]
  },
  {
   "cell_type": "code",
   "execution_count": null,
   "metadata": {},
   "outputs": [],
   "source": [
    "hulu.describe()"
   ]
  },
  {
   "cell_type": "code",
   "execution_count": null,
   "metadata": {},
   "outputs": [],
   "source": [
    "hulu.select_dtypes(\"object\").describe()"
   ]
  },
  {
   "cell_type": "code",
   "execution_count": null,
   "metadata": {},
   "outputs": [],
   "source": [
    "# Drop availableCountries Column - no value with such a low non-null number\n",
    "hulu.drop(\"availableCountries\",axis=1,inplace=True)\n",
    "hulu.columns"
   ]
  },
  {
   "cell_type": "code",
   "execution_count": null,
   "metadata": {},
   "outputs": [],
   "source": [
    "# Change releaseYear,  imdbNumVotes to integers \n",
    "# Display only the data types\n",
    "\n",
    "hulu[[\"releaseYear\",\"imdbNumVotes\"]] = hulu[[\"releaseYear\",\"imdbNumVotes\"]].apply(np.int64)\n",
    "display(hulu.dtypes)"
   ]
  },
  {
   "cell_type": "code",
   "execution_count": null,
   "metadata": {},
   "outputs": [],
   "source": [
    "# Rename Columns\n",
    "hulu.rename(columns={\"title\":\"Title\",\"type\":\"Type\",\"genres\":\"Genres\",\"releaseYear\":\"Release Year\",\"imdbId\":\"IMDb ID\",\"imdbAverageRating\":\"IMDb Average Rating\",\"imdbNumVotes\":\"IMDb Num Votes\"},inplace = True)\n",
    "# Add column that identifies the streaming service\n",
    "hulu[\"Service Name\"] = \"Hulu\"\n",
    "hulu.columns"
   ]
  },
  {
   "cell_type": "code",
   "execution_count": null,
   "metadata": {},
   "outputs": [],
   "source": [
    "# Determine how many titles contain null values\n",
    "hulu[\"Title\"].isna().sum()"
   ]
  },
  {
   "cell_type": "code",
   "execution_count": null,
   "metadata": {},
   "outputs": [],
   "source": [
    "# Drop the rows contiaining null values in the Title column\n",
    "hulu = hulu.dropna(subset=[\"Title\"])\n",
    "hulu[\"Title\"].isna().sum()"
   ]
  },
  {
   "cell_type": "code",
   "execution_count": null,
   "metadata": {},
   "outputs": [],
   "source": [
    "hulu.duplicated().value_counts()"
   ]
  },
  {
   "cell_type": "code",
   "execution_count": null,
   "metadata": {},
   "outputs": [],
   "source": [
    "hulu[hulu.duplicated(keep=False)]"
   ]
  },
  {
   "cell_type": "code",
   "execution_count": null,
   "metadata": {},
   "outputs": [],
   "source": [
    "hulu.drop_duplicates()\n"
   ]
  },
  {
   "cell_type": "code",
   "execution_count": null,
   "metadata": {},
   "outputs": [],
   "source": [
    "# hulu[[\"Genre 1\",\"Genre 2\",\"Genre 3\",\"Genre 4\",\"Genre 5\",\"Genre 6\"]] = hulu[\"Genres\"].str.split(',',expand=True)\n",
    "\n",
    "# display(hulu)\n",
    "\n",
    "# count = hulu.count()\n",
    "# print(count)\n",
    "# column_Counts = hulu[\"Genres\"].value_counts()\n",
    "# print(column_Counts)\n",
    "hulu[\"Genres\"].max()\n"
   ]
  },
  {
   "cell_type": "code",
   "execution_count": null,
   "metadata": {},
   "outputs": [],
   "source": [
    "# View top 5 rows in the netflix df\n",
    "netflix.head()"
   ]
  },
  {
   "cell_type": "code",
   "execution_count": null,
   "metadata": {},
   "outputs": [],
   "source": [
    "# Add a column to netflix DF and entered a default value for each row & display bottom two rows\n",
    "netflix[\"Service Name\"] = \"Netflix\"\n",
    "netflix.tail(2)"
   ]
  },
  {
   "cell_type": "code",
   "execution_count": null,
   "metadata": {},
   "outputs": [],
   "source": [
    "# View top 5 rows of prime df\n",
    "prime.head()"
   ]
  },
  {
   "cell_type": "code",
   "execution_count": null,
   "metadata": {},
   "outputs": [],
   "source": [
    "# Add a column to the prime df and entered a default value for each row & display bottom two rows\n",
    "prime[\"Service Name\"] = \"Prime\"\n",
    "prime.tail(2)\n",
    "\n",
    "# map function for creating column and populating each cell within each df with the df name\n",
    "\n",
    "# create a dictionary with the list of the names of df and have it look at the df name to populate the column"
   ]
  },
  {
   "cell_type": "code",
   "execution_count": null,
   "metadata": {},
   "outputs": [],
   "source": [
    "# Merge the dataframes to append them to the end of each other since using the same column names\n",
    "streaming = pd.concat([apple, hulu, netflix, prime], axis = 0)\n"
   ]
  },
  {
   "cell_type": "code",
   "execution_count": null,
   "metadata": {},
   "outputs": [],
   "source": [
    "streaming.info()"
   ]
  },
  {
   "cell_type": "code",
   "execution_count": null,
   "metadata": {},
   "outputs": [],
   "source": [
    "streaming.describe()"
   ]
  },
  {
   "cell_type": "code",
   "execution_count": null,
   "metadata": {},
   "outputs": [],
   "source": [
    "streaming.duplicated().value_counts()"
   ]
  },
  {
   "cell_type": "code",
   "execution_count": null,
   "metadata": {},
   "outputs": [],
   "source": [
    "streaming[streaming.duplicated(keep=False)]"
   ]
  },
  {
   "cell_type": "code",
   "execution_count": null,
   "metadata": {},
   "outputs": [],
   "source": [
    "streaming[\"title\"].isnull().value_counts()\n"
   ]
  },
  {
   "cell_type": "code",
   "execution_count": null,
   "metadata": {},
   "outputs": [],
   "source": [
    "streaming[\"imdbId\"].isnull().value_counts()"
   ]
  },
  {
   "cell_type": "code",
   "execution_count": null,
   "metadata": {},
   "outputs": [],
   "source": [
    "# # Assign dataset names & combine to read in as separate data frames\n",
    "\n",
    "# list_of_names = ['Netflix','Hulu','Prime','AppleTV']\n",
    "\n",
    "# # Created an empty list into which I can place the datasets\n",
    "# combined_list = []\n",
    "\n",
    "# # Used a function to append the datasets into the empty list I created above\n",
    "# for i in range(len(list_of_names)):\n",
    "#     temp_df = pd.read_csv(list_of_names[i]+\".csv\")\n",
    "#     combined_list.append(temp_df)"
   ]
  },
  {
   "cell_type": "markdown",
   "metadata": {},
   "source": [
    "### **Initial Checks**"
   ]
  },
  {
   "cell_type": "code",
   "execution_count": null,
   "metadata": {},
   "outputs": [],
   "source": [
    "# # Looking at file content of list in index 0 - Netflix - to determine column names, non-null counts, datatypes, and what the top five rows look like\n",
    "# combined_list[0].info()\n",
    "# combined_list[0].head(5)\n",
    "\n"
   ]
  },
  {
   "cell_type": "code",
   "execution_count": null,
   "metadata": {},
   "outputs": [],
   "source": [
    "# # Looking at file content of list in index 1 - Hulu - to determine column names, non-null counts, datatypes, and what the top five rows look like\n",
    "# combined_list[1].info()\n",
    "# combined_list[1].head(5)"
   ]
  },
  {
   "cell_type": "code",
   "execution_count": null,
   "metadata": {},
   "outputs": [],
   "source": [
    "# # Looking at file content of list in index 2 - Prime - to determine column names, non-null counts, datatypes, and what the top five rows look like\n",
    "# combined_list[2].info()\n",
    "# combined_list[2].head(5)"
   ]
  },
  {
   "cell_type": "code",
   "execution_count": null,
   "metadata": {},
   "outputs": [],
   "source": [
    "# # Looking at file content of list in index 3 - AppleTV - to determine column names, non-null counts, datatypes, and what the top five rows look like\n",
    "# combined_list[3].info()\n",
    "# combined_list[3].head(5)"
   ]
  },
  {
   "cell_type": "markdown",
   "metadata": {},
   "source": [
    "### Initiall Review (02/10/2025)\n",
    "- The \"availableCountries\" column will not provide much data going forward\n",
    "- No dataset has a column for the source of the data, so this will need to be added\n",
    "\n",
    "### Secondary Review (02/12/2025)\n",
    "- Each dataset contains an \"imdbId\" column with the listing's IMDb ID, which is a string; this may come in handy \n",
    "- There are 3,514 missing titles\n",
    "    - Prime = 2234\n",
    "    - AppleTV = 651\n",
    "    - Hulu = 2885\n",
    "    - Netflix = 629\n",
    "- There are 2,590 duplicated rows, among which many are from missing titles, though several are duplicate title names \n",
    "    - Apple = 2\n",
    "    - Hulu = 651\n",
    "\n",
    "\n",
    "### Breakdown:\n",
    "#### Apple\n",
    "- 565 Missing Titles\n",
    "- 2 Dupliate Rows\n",
    "#### Hulu:\n",
    "- 651 Missing Titles\n",
    "- 2 Duplicated Rows"
   ]
  }
 ],
 "metadata": {
  "kernelspec": {
   "display_name": "venv",
   "language": "python",
   "name": "python3"
  },
  "language_info": {
   "codemirror_mode": {
    "name": "ipython",
    "version": 3
   },
   "file_extension": ".py",
   "mimetype": "text/x-python",
   "name": "python",
   "nbconvert_exporter": "python",
   "pygments_lexer": "ipython3",
   "version": "3.13.0"
  }
 },
 "nbformat": 4,
 "nbformat_minor": 2
}
