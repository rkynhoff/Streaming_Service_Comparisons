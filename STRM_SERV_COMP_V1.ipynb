{
 "cells": [
  {
   "cell_type": "markdown",
   "metadata": {},
   "source": [
    "# <u>**Streaming Service Comparison**</u>\n",
    "\n",
    "### **Objective:**\n",
    "- Determine which streaming platform hosts the majority of content I enjoy so that I can pare down the services to which I subscribe. \n",
    "\n",
    "### **Data Sources:**\n",
    "- [Netflix via Kaggle.com](https://www.kaggle.com/datasets/octopusteam/full-netflix-dataset)\n",
    "- [Hulu via Kaggle.com](https://www.kaggle.com/datasets/octopusteam/full-hulu-dataset)\n",
    "- [Prime via Kaggle.com](https://www.kaggle.com/datasets/octopusteam/full-amazon-prime-dataset/data)\n",
    "- [AppleTV via Kaggle.com](https://www.kaggle.com/datasets/octopusteam/full-apple-tv-dataset)\n",
    "\n",
    "# <u>**Data Collection & Loading**</U>\n",
    "\n",
    "## **Import Pandas, Numpy, Matplotlib, Wordcloud, and PIL**"
   ]
  },
  {
   "cell_type": "code",
   "execution_count": 4,
   "metadata": {},
   "outputs": [],
   "source": [
    "import pandas as pd\n",
    "import numpy as np\n",
    "import matplotlib.pyplot as plt\n",
    "import wordcloud as wc\n",
    "from PIL import Image"
   ]
  },
  {
   "cell_type": "markdown",
   "metadata": {},
   "source": [
    "## **Data Load**"
   ]
  },
  {
   "cell_type": "code",
   "execution_count": 8,
   "metadata": {},
   "outputs": [],
   "source": [
    "# Assign dataset names\n",
    "\n",
    "list_of_names = ['Netflix','Hulu','Prime','AppleTV']\n",
    "\n",
    "combined_list = []\n",
    "\n",
    "for i in range(len(list_of_names)):\n",
    "    temp_df = pd.read_csv(list_of_names[i]+\".csv\")\n",
    "    combined_list.append(temp_df)"
   ]
  }
 ],
 "metadata": {
  "kernelspec": {
   "display_name": "venv",
   "language": "python",
   "name": "python3"
  },
  "language_info": {
   "codemirror_mode": {
    "name": "ipython",
    "version": 3
   },
   "file_extension": ".py",
   "mimetype": "text/x-python",
   "name": "python",
   "nbconvert_exporter": "python",
   "pygments_lexer": "ipython3",
   "version": "3.13.0"
  }
 },
 "nbformat": 4,
 "nbformat_minor": 2
}
