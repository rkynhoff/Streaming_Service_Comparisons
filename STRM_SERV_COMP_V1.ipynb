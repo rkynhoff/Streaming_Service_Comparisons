{
 "cells": [
  {
   "cell_type": "markdown",
   "metadata": {},
   "source": [
    "# <u>**Streaming Service Comparison**</u>\n",
    "\n",
    "### **Objective:**\n",
    "- Determine which streaming platform hosts the majority of content I enjoy so that I can pare down the services to which I subscribe. \n",
    "\n",
    "### **Data Sources:**\n",
    "- [Netflix via Kaggle.com](https://www.kaggle.com/datasets/octopusteam/full-netflix-dataset)\n",
    "- [Hulu via Kaggle.com](https://www.kaggle.com/datasets/octopusteam/full-hulu-dataset)\n",
    "- [Prime via Kaggle.com](https://www.kaggle.com/datasets/octopusteam/full-amazon-prime-dataset/data)\n",
    "- [AppleTV via Kaggle.com](https://www.kaggle.com/datasets/octopusteam/full-apple-tv-dataset)\n",
    "\n",
    "## **Data Collection & Loading**\n",
    "\n",
    "### **Import Pandas, Numpy, Matplotlib, Wordcloud, and PIL**"
   ]
  },
  {
   "cell_type": "code",
   "execution_count": 1,
   "metadata": {},
   "outputs": [],
   "source": [
    "import glob\n",
    "import pandas as pd\n",
    "import numpy as np\n",
    "import matplotlib.pyplot as plt\n",
    "import wordcloud as wc\n",
    "from PIL import Image"
   ]
  },
  {
   "cell_type": "markdown",
   "metadata": {},
   "source": [
    "### **Data Load**"
   ]
  },
  {
   "cell_type": "code",
   "execution_count": 2,
   "metadata": {},
   "outputs": [],
   "source": [
    "# Load in each file separately. \n",
    "# Plan to create a function for this or NOT\n",
    "apple = pd.read_csv(\"AppleTV.csv\")\n",
    "hulu = pd.read_csv(\"Hulu.csv\")\n",
    "netflix = pd.read_csv(\"Netflix.csv\")\n",
    "prime = pd.read_csv(\"Prime.csv\")"
   ]
  },
  {
   "cell_type": "code",
   "execution_count": 3,
   "metadata": {},
   "outputs": [
    {
     "data": {
      "text/html": [
       "<div>\n",
       "<style scoped>\n",
       "    .dataframe tbody tr th:only-of-type {\n",
       "        vertical-align: middle;\n",
       "    }\n",
       "\n",
       "    .dataframe tbody tr th {\n",
       "        vertical-align: top;\n",
       "    }\n",
       "\n",
       "    .dataframe thead th {\n",
       "        text-align: right;\n",
       "    }\n",
       "</style>\n",
       "<table border=\"1\" class=\"dataframe\">\n",
       "  <thead>\n",
       "    <tr style=\"text-align: right;\">\n",
       "      <th></th>\n",
       "      <th>title</th>\n",
       "      <th>type</th>\n",
       "      <th>genres</th>\n",
       "      <th>releaseYear</th>\n",
       "      <th>imdbId</th>\n",
       "      <th>imdbAverageRating</th>\n",
       "      <th>imdbNumVotes</th>\n",
       "      <th>availableCountries</th>\n",
       "    </tr>\n",
       "  </thead>\n",
       "  <tbody>\n",
       "    <tr>\n",
       "      <th>0</th>\n",
       "      <td>Four Rooms</td>\n",
       "      <td>movie</td>\n",
       "      <td>Comedy</td>\n",
       "      <td>1995.0</td>\n",
       "      <td>tt0113101</td>\n",
       "      <td>6.7</td>\n",
       "      <td>113403.0</td>\n",
       "      <td>NaN</td>\n",
       "    </tr>\n",
       "    <tr>\n",
       "      <th>1</th>\n",
       "      <td>Forrest Gump</td>\n",
       "      <td>movie</td>\n",
       "      <td>Drama, Romance</td>\n",
       "      <td>1994.0</td>\n",
       "      <td>tt0109830</td>\n",
       "      <td>8.8</td>\n",
       "      <td>2348885.0</td>\n",
       "      <td>NaN</td>\n",
       "    </tr>\n",
       "    <tr>\n",
       "      <th>2</th>\n",
       "      <td>American Beauty</td>\n",
       "      <td>movie</td>\n",
       "      <td>Drama</td>\n",
       "      <td>1999.0</td>\n",
       "      <td>tt0169547</td>\n",
       "      <td>8.3</td>\n",
       "      <td>1238903.0</td>\n",
       "      <td>NaN</td>\n",
       "    </tr>\n",
       "  </tbody>\n",
       "</table>\n",
       "</div>"
      ],
      "text/plain": [
       "             title   type          genres  releaseYear     imdbId  \\\n",
       "0       Four Rooms  movie          Comedy       1995.0  tt0113101   \n",
       "1     Forrest Gump  movie  Drama, Romance       1994.0  tt0109830   \n",
       "2  American Beauty  movie           Drama       1999.0  tt0169547   \n",
       "\n",
       "   imdbAverageRating  imdbNumVotes availableCountries  \n",
       "0                6.7      113403.0                NaN  \n",
       "1                8.8     2348885.0                NaN  \n",
       "2                8.3     1238903.0                NaN  "
      ]
     },
     "execution_count": 3,
     "metadata": {},
     "output_type": "execute_result"
    }
   ],
   "source": [
    "#display(apple)\n",
    "apple.head(3)"
   ]
  },
  {
   "cell_type": "code",
   "execution_count": 4,
   "metadata": {},
   "outputs": [
    {
     "name": "stdout",
     "output_type": "stream",
     "text": [
      "<class 'pandas.core.frame.DataFrame'>\n",
      "RangeIndex: 18208 entries, 0 to 18207\n",
      "Data columns (total 8 columns):\n",
      " #   Column              Non-Null Count  Dtype  \n",
      "---  ------              --------------  -----  \n",
      " 0   title               17643 non-null  object \n",
      " 1   type                18208 non-null  object \n",
      " 2   genres              17549 non-null  object \n",
      " 3   releaseYear         18179 non-null  float64\n",
      " 4   imdbId              16727 non-null  object \n",
      " 5   imdbAverageRating   16314 non-null  float64\n",
      " 6   imdbNumVotes        16314 non-null  float64\n",
      " 7   availableCountries  84 non-null     object \n",
      "dtypes: float64(3), object(5)\n",
      "memory usage: 1.1+ MB\n"
     ]
    }
   ],
   "source": [
    "# Dispaly information about the dataset (i.e., row counts, column counts, column names, datatypes, # of non-null rows)\n",
    "apple.info()"
   ]
  },
  {
   "cell_type": "code",
   "execution_count": 5,
   "metadata": {},
   "outputs": [
    {
     "data": {
      "text/html": [
       "<div>\n",
       "<style scoped>\n",
       "    .dataframe tbody tr th:only-of-type {\n",
       "        vertical-align: middle;\n",
       "    }\n",
       "\n",
       "    .dataframe tbody tr th {\n",
       "        vertical-align: top;\n",
       "    }\n",
       "\n",
       "    .dataframe thead th {\n",
       "        text-align: right;\n",
       "    }\n",
       "</style>\n",
       "<table border=\"1\" class=\"dataframe\">\n",
       "  <thead>\n",
       "    <tr style=\"text-align: right;\">\n",
       "      <th></th>\n",
       "      <th>releaseYear</th>\n",
       "      <th>imdbAverageRating</th>\n",
       "      <th>imdbNumVotes</th>\n",
       "    </tr>\n",
       "  </thead>\n",
       "  <tbody>\n",
       "    <tr>\n",
       "      <th>count</th>\n",
       "      <td>18179.000000</td>\n",
       "      <td>16314.000000</td>\n",
       "      <td>1.631400e+04</td>\n",
       "    </tr>\n",
       "    <tr>\n",
       "      <th>mean</th>\n",
       "      <td>2006.822432</td>\n",
       "      <td>6.381574</td>\n",
       "      <td>2.554855e+04</td>\n",
       "    </tr>\n",
       "    <tr>\n",
       "      <th>std</th>\n",
       "      <td>18.410460</td>\n",
       "      <td>1.162677</td>\n",
       "      <td>1.008288e+05</td>\n",
       "    </tr>\n",
       "    <tr>\n",
       "      <th>min</th>\n",
       "      <td>1902.000000</td>\n",
       "      <td>1.300000</td>\n",
       "      <td>5.000000e+00</td>\n",
       "    </tr>\n",
       "    <tr>\n",
       "      <th>25%</th>\n",
       "      <td>2001.000000</td>\n",
       "      <td>5.700000</td>\n",
       "      <td>2.010000e+02</td>\n",
       "    </tr>\n",
       "    <tr>\n",
       "      <th>50%</th>\n",
       "      <td>2014.000000</td>\n",
       "      <td>6.500000</td>\n",
       "      <td>1.234000e+03</td>\n",
       "    </tr>\n",
       "    <tr>\n",
       "      <th>75%</th>\n",
       "      <td>2020.000000</td>\n",
       "      <td>7.200000</td>\n",
       "      <td>8.106500e+03</td>\n",
       "    </tr>\n",
       "    <tr>\n",
       "      <th>max</th>\n",
       "      <td>2025.000000</td>\n",
       "      <td>9.600000</td>\n",
       "      <td>2.348885e+06</td>\n",
       "    </tr>\n",
       "  </tbody>\n",
       "</table>\n",
       "</div>"
      ],
      "text/plain": [
       "        releaseYear  imdbAverageRating  imdbNumVotes\n",
       "count  18179.000000       16314.000000  1.631400e+04\n",
       "mean    2006.822432           6.381574  2.554855e+04\n",
       "std       18.410460           1.162677  1.008288e+05\n",
       "min     1902.000000           1.300000  5.000000e+00\n",
       "25%     2001.000000           5.700000  2.010000e+02\n",
       "50%     2014.000000           6.500000  1.234000e+03\n",
       "75%     2020.000000           7.200000  8.106500e+03\n",
       "max     2025.000000           9.600000  2.348885e+06"
      ]
     },
     "execution_count": 5,
     "metadata": {},
     "output_type": "execute_result"
    }
   ],
   "source": [
    "apple.describe()"
   ]
  },
  {
   "cell_type": "code",
   "execution_count": 6,
   "metadata": {},
   "outputs": [
    {
     "data": {
      "text/html": [
       "<div>\n",
       "<style scoped>\n",
       "    .dataframe tbody tr th:only-of-type {\n",
       "        vertical-align: middle;\n",
       "    }\n",
       "\n",
       "    .dataframe tbody tr th {\n",
       "        vertical-align: top;\n",
       "    }\n",
       "\n",
       "    .dataframe thead th {\n",
       "        text-align: right;\n",
       "    }\n",
       "</style>\n",
       "<table border=\"1\" class=\"dataframe\">\n",
       "  <thead>\n",
       "    <tr style=\"text-align: right;\">\n",
       "      <th></th>\n",
       "      <th>title</th>\n",
       "      <th>type</th>\n",
       "      <th>genres</th>\n",
       "      <th>imdbId</th>\n",
       "      <th>availableCountries</th>\n",
       "    </tr>\n",
       "  </thead>\n",
       "  <tbody>\n",
       "    <tr>\n",
       "      <th>count</th>\n",
       "      <td>17643</td>\n",
       "      <td>18208</td>\n",
       "      <td>17549</td>\n",
       "      <td>16727</td>\n",
       "      <td>84</td>\n",
       "    </tr>\n",
       "    <tr>\n",
       "      <th>unique</th>\n",
       "      <td>16986</td>\n",
       "      <td>2</td>\n",
       "      <td>798</td>\n",
       "      <td>16724</td>\n",
       "      <td>14</td>\n",
       "    </tr>\n",
       "    <tr>\n",
       "      <th>top</th>\n",
       "      <td>Teenage Mutant Ninja Turtles</td>\n",
       "      <td>movie</td>\n",
       "      <td>Drama</td>\n",
       "      <td>tt0112120</td>\n",
       "      <td>US</td>\n",
       "    </tr>\n",
       "    <tr>\n",
       "      <th>freq</th>\n",
       "      <td>5</td>\n",
       "      <td>14005</td>\n",
       "      <td>1590</td>\n",
       "      <td>2</td>\n",
       "      <td>42</td>\n",
       "    </tr>\n",
       "  </tbody>\n",
       "</table>\n",
       "</div>"
      ],
      "text/plain": [
       "                               title   type genres     imdbId  \\\n",
       "count                          17643  18208  17549      16727   \n",
       "unique                         16986      2    798      16724   \n",
       "top     Teenage Mutant Ninja Turtles  movie  Drama  tt0112120   \n",
       "freq                               5  14005   1590          2   \n",
       "\n",
       "       availableCountries  \n",
       "count                  84  \n",
       "unique                 14  \n",
       "top                    US  \n",
       "freq                   42  "
      ]
     },
     "execution_count": 6,
     "metadata": {},
     "output_type": "execute_result"
    }
   ],
   "source": [
    "apple.select_dtypes(\"object\").describe()"
   ]
  },
  {
   "cell_type": "code",
   "execution_count": 7,
   "metadata": {},
   "outputs": [
    {
     "data": {
      "text/plain": [
       "Index(['title', 'type', 'genres', 'releaseYear', 'imdbId', 'imdbAverageRating',\n",
       "       'imdbNumVotes'],\n",
       "      dtype='object')"
      ]
     },
     "execution_count": 7,
     "metadata": {},
     "output_type": "execute_result"
    }
   ],
   "source": [
    "# Drop availableCountries Column - no value with such a low non-null number\n",
    "apple.drop(\"availableCountries\",axis=1,inplace=True)\n",
    "apple.columns"
   ]
  },
  {
   "cell_type": "code",
   "execution_count": 8,
   "metadata": {},
   "outputs": [
    {
     "name": "stderr",
     "output_type": "stream",
     "text": [
      "c:\\Users\\rkynhoff\\OneDrive - University of Rochester\\Documents\\CodeLouisville\\Streaming_Service_Comparisons\\venv\\Lib\\site-packages\\pandas\\core\\series.py:1031: RuntimeWarning: invalid value encountered in cast\n",
      "  arr = np.asarray(values, dtype=dtype)\n"
     ]
    },
    {
     "data": {
      "text/plain": [
       "title                 object\n",
       "type                  object\n",
       "genres                object\n",
       "releaseYear            int64\n",
       "imdbId                object\n",
       "imdbAverageRating    float64\n",
       "imdbNumVotes           int64\n",
       "dtype: object"
      ]
     },
     "metadata": {},
     "output_type": "display_data"
    }
   ],
   "source": [
    "# Change releaseYear,  imdbNumVotes to integers \n",
    "# Display only the data types\n",
    "\n",
    "apple[[\"releaseYear\",\"imdbNumVotes\"]] = apple[[\"releaseYear\",\"imdbNumVotes\"]].apply(np.int64)\n",
    "display(apple.dtypes)"
   ]
  },
  {
   "cell_type": "code",
   "execution_count": 9,
   "metadata": {},
   "outputs": [
    {
     "data": {
      "text/plain": [
       "Index(['Title', 'Type', 'Genres', 'Release Year', 'IMDb ID',\n",
       "       'IMDb Average Rating', 'IMDb Num Votes'],\n",
       "      dtype='object')"
      ]
     },
     "execution_count": 9,
     "metadata": {},
     "output_type": "execute_result"
    }
   ],
   "source": [
    "# Rename Columns\n",
    "apple.rename(columns={\"title\":\"Title\",\"type\":\"Type\",\"genres\":\"Genres\",\"releaseYear\":\"Release Year\",\"imdbId\":\"IMDb ID\",\"imdbAverageRating\":\"IMDb Average Rating\",\"imdbNumVotes\":\"IMDb Num Votes\"},inplace = True)\n",
    "apple.columns"
   ]
  },
  {
   "cell_type": "code",
   "execution_count": 10,
   "metadata": {},
   "outputs": [
    {
     "data": {
      "text/plain": [
       "np.int64(565)"
      ]
     },
     "execution_count": 10,
     "metadata": {},
     "output_type": "execute_result"
    }
   ],
   "source": [
    "# Determine how many titles contain null values\n",
    "apple[\"Title\"].isna().sum()"
   ]
  },
  {
   "cell_type": "code",
   "execution_count": 11,
   "metadata": {},
   "outputs": [
    {
     "data": {
      "text/plain": [
       "np.int64(0)"
      ]
     },
     "execution_count": 11,
     "metadata": {},
     "output_type": "execute_result"
    }
   ],
   "source": [
    "# Drop the rows contiaining null values in the Title column\n",
    "apple = apple.dropna(subset=[\"Title\"])\n",
    "apple[\"Title\"].isna().sum()\n"
   ]
  },
  {
   "cell_type": "code",
   "execution_count": 12,
   "metadata": {},
   "outputs": [
    {
     "data": {
      "text/plain": [
       "False    17641\n",
       "True         2\n",
       "Name: count, dtype: int64"
      ]
     },
     "execution_count": 12,
     "metadata": {},
     "output_type": "execute_result"
    }
   ],
   "source": [
    "apple.duplicated().value_counts()"
   ]
  },
  {
   "cell_type": "code",
   "execution_count": 13,
   "metadata": {},
   "outputs": [
    {
     "data": {
      "text/html": [
       "<div>\n",
       "<style scoped>\n",
       "    .dataframe tbody tr th:only-of-type {\n",
       "        vertical-align: middle;\n",
       "    }\n",
       "\n",
       "    .dataframe tbody tr th {\n",
       "        vertical-align: top;\n",
       "    }\n",
       "\n",
       "    .dataframe thead th {\n",
       "        text-align: right;\n",
       "    }\n",
       "</style>\n",
       "<table border=\"1\" class=\"dataframe\">\n",
       "  <thead>\n",
       "    <tr style=\"text-align: right;\">\n",
       "      <th></th>\n",
       "      <th>Title</th>\n",
       "      <th>Type</th>\n",
       "      <th>Genres</th>\n",
       "      <th>Release Year</th>\n",
       "      <th>IMDb ID</th>\n",
       "      <th>IMDb Average Rating</th>\n",
       "      <th>IMDb Num Votes</th>\n",
       "    </tr>\n",
       "  </thead>\n",
       "  <tbody>\n",
       "    <tr>\n",
       "      <th>3497</th>\n",
       "      <td>A Personal Journey with Martin Scorsese Throug...</td>\n",
       "      <td>movie</td>\n",
       "      <td>Biography, Documentary, History</td>\n",
       "      <td>1995</td>\n",
       "      <td>tt0112120</td>\n",
       "      <td>8.5</td>\n",
       "      <td>5196</td>\n",
       "    </tr>\n",
       "    <tr>\n",
       "      <th>13091</th>\n",
       "      <td>The Kidnap &amp; Murder of Lynda Spence</td>\n",
       "      <td>movie</td>\n",
       "      <td>Documentary, Crime</td>\n",
       "      <td>2023</td>\n",
       "      <td>NaN</td>\n",
       "      <td>NaN</td>\n",
       "      <td>-9223372036854775808</td>\n",
       "    </tr>\n",
       "    <tr>\n",
       "      <th>13093</th>\n",
       "      <td>The Kidnap &amp; Murder of Lynda Spence</td>\n",
       "      <td>movie</td>\n",
       "      <td>Documentary, Crime</td>\n",
       "      <td>2023</td>\n",
       "      <td>NaN</td>\n",
       "      <td>NaN</td>\n",
       "      <td>-9223372036854775808</td>\n",
       "    </tr>\n",
       "    <tr>\n",
       "      <th>13980</th>\n",
       "      <td>A Personal Journey with Martin Scorsese Throug...</td>\n",
       "      <td>movie</td>\n",
       "      <td>Biography, Documentary, History</td>\n",
       "      <td>1995</td>\n",
       "      <td>tt0112120</td>\n",
       "      <td>8.5</td>\n",
       "      <td>5196</td>\n",
       "    </tr>\n",
       "  </tbody>\n",
       "</table>\n",
       "</div>"
      ],
      "text/plain": [
       "                                                   Title   Type  \\\n",
       "3497   A Personal Journey with Martin Scorsese Throug...  movie   \n",
       "13091                The Kidnap & Murder of Lynda Spence  movie   \n",
       "13093                The Kidnap & Murder of Lynda Spence  movie   \n",
       "13980  A Personal Journey with Martin Scorsese Throug...  movie   \n",
       "\n",
       "                                Genres  Release Year    IMDb ID  \\\n",
       "3497   Biography, Documentary, History          1995  tt0112120   \n",
       "13091               Documentary, Crime          2023        NaN   \n",
       "13093               Documentary, Crime          2023        NaN   \n",
       "13980  Biography, Documentary, History          1995  tt0112120   \n",
       "\n",
       "       IMDb Average Rating       IMDb Num Votes  \n",
       "3497                   8.5                 5196  \n",
       "13091                  NaN -9223372036854775808  \n",
       "13093                  NaN -9223372036854775808  \n",
       "13980                  8.5                 5196  "
      ]
     },
     "execution_count": 13,
     "metadata": {},
     "output_type": "execute_result"
    }
   ],
   "source": [
    "apple[apple.duplicated(keep=False)]"
   ]
  },
  {
   "cell_type": "code",
   "execution_count": 14,
   "metadata": {},
   "outputs": [
    {
     "ename": "AttributeError",
     "evalue": "'function' object has no attribute 'duplicates'",
     "output_type": "error",
     "traceback": [
      "\u001b[1;31m---------------------------------------------------------------------------\u001b[0m",
      "\u001b[1;31mAttributeError\u001b[0m                            Traceback (most recent call last)",
      "Cell \u001b[1;32mIn[14], line 1\u001b[0m\n\u001b[1;32m----> 1\u001b[0m apple_deduped \u001b[38;5;241m=\u001b[39m \u001b[43mapple\u001b[49m\u001b[38;5;241;43m.\u001b[39;49m\u001b[43mdrop\u001b[49m\u001b[38;5;241;43m.\u001b[39;49m\u001b[43mduplicates\u001b[49m()\n",
      "\u001b[1;31mAttributeError\u001b[0m: 'function' object has no attribute 'duplicates'"
     ]
    }
   ],
   "source": [
    "apple_deduped = apple.drop.duplicates()\n"
   ]
  },
  {
   "cell_type": "code",
   "execution_count": null,
   "metadata": {},
   "outputs": [],
   "source": [
    "#apple.genres.value_counts()\n",
    "# apple['genres'].str.split(',', expand=True)\n",
    "apple[[\"Genre 1\",\"Genre 2\",\"Genre 3\",\"Genre 4\",\"Genre 5\",\"Genre 6\"]] = apple[\"Genres\"].str.split(',',expand=True)\n",
    "\n",
    "display(apple)\n",
    "\n"
   ]
  },
  {
   "cell_type": "code",
   "execution_count": null,
   "metadata": {},
   "outputs": [],
   "source": [
    "# View top 5 rows in the hulu df\n",
    "hulu.head()"
   ]
  },
  {
   "cell_type": "code",
   "execution_count": null,
   "metadata": {},
   "outputs": [],
   "source": [
    "# Add a column to hulu DF and entered a default value for each row & display bottom two rows\n",
    "hulu[\"serviceName\"] = \"Hulu\"\n",
    "hulu.tail(2)"
   ]
  },
  {
   "cell_type": "code",
   "execution_count": null,
   "metadata": {},
   "outputs": [],
   "source": [
    "# View top 5 rows in the netflix df\n",
    "netflix.head()"
   ]
  },
  {
   "cell_type": "code",
   "execution_count": null,
   "metadata": {},
   "outputs": [],
   "source": [
    "# Add a column to netflix DF and entered a default value for each row & display bottom two rows\n",
    "netflix[\"serviceName\"] = \"Netflix\"\n",
    "netflix.tail(2)"
   ]
  },
  {
   "cell_type": "code",
   "execution_count": null,
   "metadata": {},
   "outputs": [],
   "source": [
    "# View top 5 rows of prime df\n",
    "prime.head()"
   ]
  },
  {
   "cell_type": "code",
   "execution_count": null,
   "metadata": {},
   "outputs": [],
   "source": [
    "# Add a column to the prime df and entered a default value for each row & display bottom two rows\n",
    "prime[\"serviceName\"] = \"Prime\"\n",
    "prime.tail(2)\n",
    "\n",
    "# map function for creating column and populating each cell within each df with the df name\n",
    "\n",
    "# create a dictionary with the list of the names of df and have it look at the df name to populate the column"
   ]
  },
  {
   "cell_type": "code",
   "execution_count": null,
   "metadata": {},
   "outputs": [],
   "source": [
    "# Merge the dataframes to append them to the end of each other since using the same column names\n",
    "streaming = pd.concat([apple, hulu, netflix, prime], axis = 0)\n"
   ]
  },
  {
   "cell_type": "code",
   "execution_count": null,
   "metadata": {},
   "outputs": [],
   "source": [
    "streaming.info()"
   ]
  },
  {
   "cell_type": "code",
   "execution_count": null,
   "metadata": {},
   "outputs": [],
   "source": [
    "streaming.describe()"
   ]
  },
  {
   "cell_type": "code",
   "execution_count": null,
   "metadata": {},
   "outputs": [],
   "source": [
    "streaming.duplicated().value_counts()"
   ]
  },
  {
   "cell_type": "code",
   "execution_count": null,
   "metadata": {},
   "outputs": [],
   "source": [
    "streaming[streaming.duplicated(keep=False)]"
   ]
  },
  {
   "cell_type": "code",
   "execution_count": null,
   "metadata": {},
   "outputs": [],
   "source": [
    "streaming[\"title\"].isnull().value_counts()\n"
   ]
  },
  {
   "cell_type": "code",
   "execution_count": null,
   "metadata": {},
   "outputs": [],
   "source": [
    "streaming[\"imdbId\"].isnull().value_counts()"
   ]
  },
  {
   "cell_type": "code",
   "execution_count": null,
   "metadata": {},
   "outputs": [],
   "source": [
    "# # Assign dataset names & combine to read in as separate data frames\n",
    "\n",
    "# list_of_names = ['Netflix','Hulu','Prime','AppleTV']\n",
    "\n",
    "# # Created an empty list into which I can place the datasets\n",
    "# combined_list = []\n",
    "\n",
    "# # Used a function to append the datasets into the empty list I created above\n",
    "# for i in range(len(list_of_names)):\n",
    "#     temp_df = pd.read_csv(list_of_names[i]+\".csv\")\n",
    "#     combined_list.append(temp_df)"
   ]
  },
  {
   "cell_type": "markdown",
   "metadata": {},
   "source": [
    "### **Initial Checks**"
   ]
  },
  {
   "cell_type": "code",
   "execution_count": null,
   "metadata": {},
   "outputs": [],
   "source": [
    "# # Looking at file content of list in index 0 - Netflix - to determine column names, non-null counts, datatypes, and what the top five rows look like\n",
    "# combined_list[0].info()\n",
    "# combined_list[0].head(5)\n",
    "\n"
   ]
  },
  {
   "cell_type": "code",
   "execution_count": null,
   "metadata": {},
   "outputs": [],
   "source": [
    "# # Looking at file content of list in index 1 - Hulu - to determine column names, non-null counts, datatypes, and what the top five rows look like\n",
    "# combined_list[1].info()\n",
    "# combined_list[1].head(5)"
   ]
  },
  {
   "cell_type": "code",
   "execution_count": null,
   "metadata": {},
   "outputs": [],
   "source": [
    "# # Looking at file content of list in index 2 - Prime - to determine column names, non-null counts, datatypes, and what the top five rows look like\n",
    "# combined_list[2].info()\n",
    "# combined_list[2].head(5)"
   ]
  },
  {
   "cell_type": "code",
   "execution_count": null,
   "metadata": {},
   "outputs": [],
   "source": [
    "# # Looking at file content of list in index 3 - AppleTV - to determine column names, non-null counts, datatypes, and what the top five rows look like\n",
    "# combined_list[3].info()\n",
    "# combined_list[3].head(5)"
   ]
  },
  {
   "cell_type": "markdown",
   "metadata": {},
   "source": [
    "### Initiall Review (02/10/2025)\n",
    "- The \"availableCountries\" column will not provide much data going forward\n",
    "- No dataset has a column for the source of the data, so this will need to be added\n",
    "\n",
    "### Secondary Review (02/12/2025)\n",
    "- Each dataset contains an \"imdbId\" column with the listing's IMDb ID, which is a string; this may come in handy \n",
    "- There are 3,514 missing titles\n",
    "    - Prime = 2234\n",
    "    - AppleTV = 651\n",
    "    - Hulu = 2885\n",
    "    - Netflix = 629\n",
    "- There are 2,590 duplicated rows, among which many are from missing titles, though several are duplicate title names "
   ]
  }
 ],
 "metadata": {
  "kernelspec": {
   "display_name": "venv",
   "language": "python",
   "name": "python3"
  },
  "language_info": {
   "codemirror_mode": {
    "name": "ipython",
    "version": 3
   },
   "file_extension": ".py",
   "mimetype": "text/x-python",
   "name": "python",
   "nbconvert_exporter": "python",
   "pygments_lexer": "ipython3",
   "version": "3.13.0"
  }
 },
 "nbformat": 4,
 "nbformat_minor": 2
}
