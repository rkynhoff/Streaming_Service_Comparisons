{
 "cells": [
  {
   "cell_type": "markdown",
   "metadata": {},
   "source": [
    "### **Data Dictionary**\n",
    "This is the data dictionary associated with the prices DataFrames. \t\t\t\t\n",
    "\n",
    "| Field/Column  | Description | Source | Data Type | Example |\n",
    "|:--------------|:------------|:-------|:----------|:--------|\n",
    "| Service_Name | The streaming platform name. | Original csv file | text string | AppleTV |\n",
    "| date | The month and year to which the price corresponds. | Original csv file | date object | Nov-2019 |\n",
    "| price | The monthly subscription price for the associated streaming platform, month, and year. | Original csv files | float  | 4.99 |"
   ]
  }
 ],
 "metadata": {
  "language_info": {
   "name": "python"
  }
 },
 "nbformat": 4,
 "nbformat_minor": 2
}
