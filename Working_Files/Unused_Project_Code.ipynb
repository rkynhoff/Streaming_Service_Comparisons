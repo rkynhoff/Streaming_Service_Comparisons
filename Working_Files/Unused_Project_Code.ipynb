{
 "cells": [
  {
   "cell_type": "code",
   "execution_count": null,
   "metadata": {},
   "outputs": [],
   "source": [
    "# df[\"columnName\"] = df[\"columnname\"].str.replace(\"\\W\",\"_\",regex=True)\n",
    "\n",
    "# apple[\"genres\"] = apple[\"genres\"].str.replace(\"\\W\",\" \",regex=True)\n",
    "# apple.head(2)"
   ]
  },
  {
   "cell_type": "code",
   "execution_count": null,
   "metadata": {},
   "outputs": [],
   "source": [
    "# apple_split = apple[\"genres\"].str.split(\",\",expand=True)\n",
    "# display(apple_split)"
   ]
  },
  {
   "cell_type": "code",
   "execution_count": null,
   "metadata": {},
   "outputs": [],
   "source": [
    "# Add a column to apple DF and entered a default value for each row & display bottom two rows\n",
    "# apple[\"serviceName\"] = \"AppleTV\"\n",
    "# apple.tail(2)"
   ]
  },
  {
   "cell_type": "code",
   "execution_count": null,
   "metadata": {},
   "outputs": [],
   "source": [
    "# column_list = apple.columns\n",
    "# list(column_list)"
   ]
  },
  {
   "cell_type": "code",
   "execution_count": null,
   "metadata": {},
   "outputs": [],
   "source": [
    "# apple[\"genre1\"] = apple[\"genres\"].str.get(0)\n",
    "# apple[\"genre2\"] = apple[\"genres\"].str.get(1)\n",
    "# apple[\"genre3\"] = apple[\"genres\"].str.get(2)\n",
    "# apple[\"genre4\"] = apple[\"genres\"].str.get(3)\n",
    "# apple[\"genre5\"] = apple[\"genres\"].str.get(4)\n",
    "\n",
    "# display(apple)\n"
   ]
  },
  {
   "cell_type": "code",
   "execution_count": null,
   "metadata": {},
   "outputs": [],
   "source": [
    "# attempts at reading in CSV files with a function\n",
    "# def read_csvs(folder_path):\n",
    "#     all_files = glob.glob(os.path.join(folder_path, \"*.csv\"))    \n",
    "\n",
    "#     all_df = {}\n",
    "#     for file in all_files:\n",
    "#         file_name = os.path.basename(file).replace(\".csv\",\"\")\n",
    "#         df = pd.read_csv(file)\n",
    "#         all_df[file_name] = df\n",
    "#     return all_df\n",
    "\n",
    "# folder_path = \"Streaming_Service_Comparisons\"\n",
    "# dfs = read_csvs(folder_path)\n",
    "\n",
    "# df_AppleTV = dfs[\"AppleTV\"]\n"
   ]
  },
  {
   "cell_type": "code",
   "execution_count": null,
   "metadata": {},
   "outputs": [],
   "source": [
    "# Attempts at reading in csv files with a function\n",
    "# Assign dataset names & combine to read in as separate data frames\n",
    "\n",
    "# list_of_names = ['Netflix','Hulu','Prime','AppleTV']\n",
    "\n",
    "# Created an empty list into which I can place the datasets\n",
    "# combined_list = []\n",
    "\n",
    "# Used a loop to append the datasets into the empty list I created above\n",
    "# for i in range(len(list_of_names)):\n",
    "#     temp_df = pd.read_csv(list_of_names[i]+\".csv\")\n",
    "#     combined_list.append(temp_df)\n"
   ]
  },
  {
   "cell_type": "code",
   "execution_count": null,
   "metadata": {},
   "outputs": [],
   "source": [
    "# streaming_v3.loc[45537,\"Combined_Genres\"] = [\"Animation\",\"Horror\"]\n",
    "# streaming_v3.loc[:,\"Combined_Genres\"] = streaming_v3[:,\"Combined_Genres\"].apply(lambda x: [x])\n",
    "# streaming_v3.iloc[13329,2].append(\", Drama, War\")\n"
   ]
  },
  {
   "cell_type": "code",
   "execution_count": null,
   "metadata": {},
   "outputs": [],
   "source": [
    "#Attempt to concatenate a value from one cell with another value in another cell\n",
    "# streaming_v3.iloc[45537,2] = str(streaming_v3.iloc[45537,2]) + \", Horror\""
   ]
  }
 ],
 "metadata": {
  "language_info": {
   "name": "python"
  }
 },
 "nbformat": 4,
 "nbformat_minor": 2
}
