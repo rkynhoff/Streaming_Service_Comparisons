{
 "cells": [
  {
   "cell_type": "code",
   "execution_count": null,
   "metadata": {},
   "outputs": [],
   "source": [
    "# df[\"columnName\"] = df[\"columnname\"].str.replace(\"\\W\",\"_\",regex=True)\n",
    "\n",
    "# apple[\"genres\"] = apple[\"genres\"].str.replace(\"\\W\",\" \",regex=True)\n",
    "# apple.head(2)"
   ]
  },
  {
   "cell_type": "code",
   "execution_count": null,
   "metadata": {},
   "outputs": [],
   "source": [
    "# apple_split = apple[\"genres\"].str.split(\",\",expand=True)\n",
    "# display(apple_split)"
   ]
  },
  {
   "cell_type": "code",
   "execution_count": null,
   "metadata": {},
   "outputs": [],
   "source": [
    "# Add a column to apple DF and entered a default value for each row & display bottom two rows\n",
    "# apple[\"serviceName\"] = \"AppleTV\"\n",
    "# apple.tail(2)"
   ]
  },
  {
   "cell_type": "code",
   "execution_count": null,
   "metadata": {},
   "outputs": [],
   "source": [
    "# column_list = apple.columns\n",
    "# list(column_list)"
   ]
  },
  {
   "cell_type": "code",
   "execution_count": null,
   "metadata": {},
   "outputs": [],
   "source": [
    "# apple[\"genre1\"] = apple[\"genres\"].str.get(0)\n",
    "# apple[\"genre2\"] = apple[\"genres\"].str.get(1)\n",
    "# apple[\"genre3\"] = apple[\"genres\"].str.get(2)\n",
    "# apple[\"genre4\"] = apple[\"genres\"].str.get(3)\n",
    "# apple[\"genre5\"] = apple[\"genres\"].str.get(4)\n",
    "\n",
    "# display(apple)\n"
   ]
  },
  {
   "cell_type": "code",
   "execution_count": null,
   "metadata": {},
   "outputs": [],
   "source": [
    "# attempts at reading in CSV files with a function\n",
    "# def read_csvs(folder_path):\n",
    "#     all_files = glob.glob(os.path.join(folder_path, \"*.csv\"))    \n",
    "\n",
    "#     all_df = {}\n",
    "#     for file in all_files:\n",
    "#         file_name = os.path.basename(file).replace(\".csv\",\"\")\n",
    "#         df = pd.read_csv(file)\n",
    "#         all_df[file_name] = df\n",
    "#     return all_df\n",
    "\n",
    "# folder_path = \"Streaming_Service_Comparisons\"\n",
    "# dfs = read_csvs(folder_path)\n",
    "\n",
    "# df_AppleTV = dfs[\"AppleTV\"]\n"
   ]
  },
  {
   "cell_type": "code",
   "execution_count": null,
   "metadata": {},
   "outputs": [],
   "source": [
    "# Attempts at reading in csv files with a function\n",
    "# Assign dataset names & combine to read in as separate data frames\n",
    "\n",
    "# list_of_names = ['Netflix','Hulu','Prime','AppleTV']\n",
    "\n",
    "# Created an empty list into which I can place the datasets\n",
    "# combined_list = []\n",
    "\n",
    "# Used a loop to append the datasets into the empty list I created above\n",
    "# for i in range(len(list_of_names)):\n",
    "#     temp_df = pd.read_csv(list_of_names[i]+\".csv\")\n",
    "#     combined_list.append(temp_df)\n"
   ]
  },
  {
   "cell_type": "code",
   "execution_count": null,
   "metadata": {},
   "outputs": [],
   "source": [
    "# streaming_v3.loc[45537,\"Combined_Genres\"] = [\"Animation\",\"Horror\"]\n",
    "# streaming_v3.loc[:,\"Combined_Genres\"] = streaming_v3[:,\"Combined_Genres\"].apply(lambda x: [x])\n",
    "# streaming_v3.iloc[13329,2].append(\", Drama, War\")\n"
   ]
  },
  {
   "cell_type": "code",
   "execution_count": null,
   "metadata": {},
   "outputs": [],
   "source": [
    "#Attempt to concatenate a value from one cell with another value in another cell\n",
    "# streaming_v3.iloc[45537,2] = str(streaming_v3.iloc[45537,2]) + \", Horror\"\n"
   ]
  },
  {
   "cell_type": "code",
   "execution_count": null,
   "metadata": {},
   "outputs": [],
   "source": [
    "# Dataframe view: \n",
    "#       ID  Date  Hour  Sales\n",
    "# 0   Dave     1     0     10\n",
    "# 1   Dave     1     1     20\n",
    "# 2   Dave     1     2     30\n",
    "# 3   Dave     2     0     40\n",
    "# 4   Dave     2     1     50\n",
    "# 5   Dave     2     2     60\n",
    "# 6   Carl     1     0     15\n",
    "# 7   Carl     1     1     25\n",
    "# 8   Carl     1     2     35\n",
    "# 9   Carl     2     0     45\n",
    "# 10  Carl     2     1     55\n",
    "# 11  Carl     2     2     65\n",
    "\n",
    "# Example of something that might work \n",
    "# new = pd.DataFrame(columns=['ID','Date'])\n",
    "# for hour in range(3):\n",
    "#     tmp = df.where(df.Hour == hour).dropna(axis=0, how='all')\n",
    "#     tmp[hour] = tmp['Sales']\n",
    "#     tmp.drop(['Hour','Sales'], axis=1, inplace=True)\n",
    "#     new = new.merge(tmp, how='outer', on=['ID','Date'])\n",
    "# new.set_index(['ID','Date'], inplace=True)\n",
    "\n",
    "# https://stackoverflow.com/questions/70697355/python-add-merge-rows-of-a-dataframe-together-based-on-multiple-conditions"
   ]
  },
  {
   "cell_type": "code",
   "execution_count": null,
   "metadata": {},
   "outputs": [],
   "source": [
    "# grouped_dupes[[\"Combined_Genres\",\"Title\",\"Service_Name\"]] = grouped_dupes[[\"Combined_Genres\",\"Title\",\"Service_Name\"]].astype(str)\n",
    "\n",
    "# df_grouped = grouped_dupes.groupby(\"Title\")[\"Combined_Genres\"].agg(\", \".join).reset_index()\n",
    "\n",
    "# df_grouped"
   ]
  },
  {
   "cell_type": "code",
   "execution_count": null,
   "metadata": {},
   "outputs": [],
   "source": [
    "# df['All_Genres'] = df['Movie'].map(genre_mapping)\n",
    "# # print(df)\n",
    "# streaming_v3[\"Combined_Genres_2\"] = streaming_v3[\"Title\"].map(df_grouped)\n",
    "# print(streaming_v3)"
   ]
  },
  {
   "cell_type": "code",
   "execution_count": null,
   "metadata": {},
   "outputs": [],
   "source": [
    "# create a for loop with conditions based on columns that are the same then concat(column name)\n",
    "\n",
    "# for v in grouped_dupes:\n",
    "#     if (grouped_dupes[\"Title\"] == grouped_dupes[\"Title\"]):\n",
    "#         if (grouped_dupes[\"Serivce_Name\"] == grouped_dupes[\"Service_Name\"]):\n",
    "#             if (grouped_dupes[\"Release_Year\"] == grouped_dupes[\"Release_Year\"]):\n",
    "#                 grouped_dupes.groupby(\"Combined_Genres\")\n",
    "#     else:\n",
    "#         break\n",
    "\n",
    "# grouped_dupes()\n",
    "\n",
    "                     \n",
    "    #                  \"Combined_Genres\",\"Release_Year\",\"Service_Name\"] == grouped_dupes[\"Title\",\"Combined_Genres\",\"Release_Year\",\"Service_Name\"]:\n",
    "    #     pd.concat[\"Title\",\"Content_Type\",\"Combined_Genres\",\"Release_Year\",\"IMBd_ID\",\"IMDb_Avg_Rating\",\"IMDb_Votes_Count\",\"Service_Name\"]\n",
    "    # else:\n",
    "    #     break "
   ]
  },
  {
   "cell_type": "code",
   "execution_count": null,
   "metadata": {},
   "outputs": [],
   "source": [
    "# for index, row in grouped_dupes.iterrows:\n",
    "#     if row(grouped_dupes[\"Title\"]) == row(grouped_dupes[\"Title\"]) and row(grouped_dupes[\"Service_Name\"]) == row(grouped_dupes[\"Service_Name\"]) and row(grouped_dupes[\"Release_Year\"]) == row(grouped_dupes[\"Release_Year\"]):\n",
    "#         pd.concat[\"Combined_Genres\"]\n",
    "#     else:\n",
    "#         break \n",
    "\n",
    "# https://stackoverflow.com/questions/67612391/loop-through-rows-and-compare-two-columns-and-apply-logic-and-change-one-column"
   ]
  },
  {
   "cell_type": "code",
   "execution_count": null,
   "metadata": {},
   "outputs": [],
   "source": [
    "# text = \" \".join(cat for cat in streaming_clean[streaming_clean[\"Content_Type\"] == 1][\"Combined_Genres\"])\n",
    "# wordcloud = WordCloud(width=600,height=400,background_color='black',).generate(text)\n",
    "# plt.imshow(wordcloud,interpolation='bilinear')\n",
    "# plt.axis('off')\n",
    "# plt.show()"
   ]
  },
  {
   "cell_type": "code",
   "execution_count": null,
   "metadata": {},
   "outputs": [],
   "source": [
    "# x = streaming_clean[\"Service_Name\"]\n",
    "# y = streaming_clean[\"Content_Type\"]\n",
    "\n",
    "# plt.bar(x,y)\n",
    "# plt.show()"
   ]
  },
  {
   "cell_type": "code",
   "execution_count": null,
   "metadata": {},
   "outputs": [],
   "source": [
    "# streaming_clean[\"Service_Name\"] = pd.Categorical(streaming_clean[\"Service_Name\"])\n",
    "# streaming_clean.groupby(\"Service_Name\")[\"Content_Type\"].plot(kind='bar')"
   ]
  },
  {
   "cell_type": "code",
   "execution_count": null,
   "metadata": {},
   "outputs": [],
   "source": [
    "# streaming_clean.plot(x=\"Service_Name)"
   ]
  },
  {
   "cell_type": "code",
   "execution_count": null,
   "metadata": {},
   "outputs": [],
   "source": [
    "# grouped = streaming_clean.groupby([\"Service_Name\",\"Content_Type\"]).sum().unstack()\n",
    "# grouped.plot(kind='barh')\n",
    "# plt.show()"
   ]
  },
  {
   "cell_type": "code",
   "execution_count": null,
   "metadata": {},
   "outputs": [],
   "source": [
    "# data = streaming_clean[\"Combined_Genres\",\"Service_Name\"]\n"
   ]
  },
  {
   "cell_type": "code",
   "execution_count": null,
   "metadata": {},
   "outputs": [],
   "source": [
    "# Counts of the content type by streaming sesrvice\n",
    "# sn.countplot(streaming_clean,x=\"Service_Name\", hue=\"Content_Type\",palette=)"
   ]
  },
  {
   "cell_type": "code",
   "execution_count": null,
   "metadata": {},
   "outputs": [],
   "source": [
    "# Counts of the content type by streaming sesrvice\n",
    "# sn.countplot(streaming_clean, x = \"Content_Type\", hue = \"Service_Name\", palette = [\"#A3AAAE\",\"#1CE783\",\"#831010\",\"#FF9900\"])\n"
   ]
  },
  {
   "cell_type": "code",
   "execution_count": null,
   "metadata": {},
   "outputs": [],
   "source": [
    "# https://stackoverflow.com/questions/70917937/how-to-set-a-specific-color-for-each-bar-in-a-barplot\n",
    "# colors = [(163/255, 170/255, 174/255, 1), (0, 157/255, 220/255, 1), (28/255, 231/255, 131/255, 1),(0, 25/255, 8/255, 1),(216/255, 31/255, 38/255, 1), (34/255, 31/255, 31/255, 1),(163/255, 170/255, 174/255, 1),(35/255, 47/255, 62/255, 1)]\n",
    "\n",
    "# sn.catplot(x = \"Content_Type\", hue = \"Service_Name\", data = streaming_clean, kind = \"bar\", palette = colors)"
   ]
  },
  {
   "cell_type": "code",
   "execution_count": null,
   "metadata": {},
   "outputs": [],
   "source": [
    "# Create the outline of md for data dictionary\n",
    "# prices_md_table = prices.head().to_markdown(index = False)\n",
    "# print(prices_md_table)"
   ]
  },
  {
   "cell_type": "code",
   "execution_count": null,
   "metadata": {},
   "outputs": [],
   "source": [
    "# display(streaming_v4[streaming_v4[\"Title\"] == \"Aurora\"])\n",
    "# display(streaming_v4[streaming_v4[\"Title\"] == \"De olhos abertos\"]) \n",
    "# display(streaming_v4[streaming_v4[\"Title\"] == \"Fences\"])\n",
    "# display(streaming_v4[streaming_v4[\"Title\"] == \"Imago\"])\n",
    "# display(streaming_v4[streaming_v4[\"Title\"] == \"Fences\"])\n",
    "# display(streaming_v4[streaming_v4[\"Title\"] == \"Leonardo: The Man Who Saved Science\"])\n",
    "# display(streaming_v4[streaming_v4[\"Title\"] == \"Stealing Chaplin\"])\n",
    "# display(streaming_v4[streaming_v4[\"Title\"] == \"When life gives you lemons\"])\n"
   ]
  }
 ],
 "metadata": {
  "language_info": {
   "name": "python"
  }
 },
 "nbformat": 4,
 "nbformat_minor": 2
}
