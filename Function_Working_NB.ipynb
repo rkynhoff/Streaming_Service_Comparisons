{
 "cells": [
  {
   "cell_type": "code",
   "execution_count": 1,
   "metadata": {},
   "outputs": [],
   "source": [
    "import glob\n",
    "import pandas as pd\n",
    "import numpy as np\n",
    "import matplotlib.pyplot as plt\n",
    "import wordcloud as wc\n",
    "from PIL import Image"
   ]
  },
  {
   "cell_type": "code",
   "execution_count": null,
   "metadata": {},
   "outputs": [],
   "source": [
    "#Attempt at reading in CSVs as separate dataframes using a function\n",
    "# Assign dataframe names\n",
    "# df_names = [\"AppleTV\",\"Hulu\",\"Netflix\",\"Prime\"]\n",
    "\n",
    "# # Create an empty list\n",
    "# streaming_serv_list = []\n",
    "\n",
    "# # Append dataframes into the list\n",
    "# for c in range(len(df_names)):\n",
    "#     temp_df = pd.read_csv(df_names[c]+\".csv\")\n",
    "#     streaming_serv_list.append(temp_df)\n",
    "\n",
    "# print(streaming_serv_list)"
   ]
  }
 ],
 "metadata": {
  "kernelspec": {
   "display_name": "venv",
   "language": "python",
   "name": "python3"
  },
  "language_info": {
   "codemirror_mode": {
    "name": "ipython",
    "version": 3
   },
   "file_extension": ".py",
   "mimetype": "text/x-python",
   "name": "python",
   "nbconvert_exporter": "python",
   "pygments_lexer": "ipython3",
   "version": "3.13.0"
  }
 },
 "nbformat": 4,
 "nbformat_minor": 2
}
