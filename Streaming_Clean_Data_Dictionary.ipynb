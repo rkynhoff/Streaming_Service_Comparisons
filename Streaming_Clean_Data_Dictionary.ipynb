{
 "cells": [
  {
   "cell_type": "markdown",
   "metadata": {},
   "source": [
    "### **Data Dictionary**\n",
    "This is the data dictionary associated with final dataframe.\t\t\t\t\t\n",
    "\n",
    "| Field | Description | Source |  TBD |\n",
    "|:------|:------------|:-------|:- |\n",
    "| Title | The name of the movie or tv show. | Original csv files | |\n",
    "| Content_Type | The title content, either \"movie\" or \"tv.\" | Updated in dataframe adding \"Content_\" to the field | |\n",
    "| Combined_Genres | Includes all available genres in alphabetical order. | Updated in dataframe adding \"Combined_\" to the field | |\n",
    "| Release_Year | The year the movie or tv show was released according to the streaming platform.  | Updated in dataframe adding \"_\" to separate words in the field | |\n",
    "| IMDb_ID | The IMDb ID, if present, a unique value used in the URL of the IMDb content listing. | Updated in dataframe adding \"_\" to separate words in the field | |\n",
    "| IMDb_Avg_Rating | The average rating by customers on IMDb  | Updated in dataframe adding \"_\" to separate words in the field & shortened one word | |\n",
    "| IMDb_Votes_Count | The total number of votes by customers on IMDb | Updated in dataframe to rename the field | |\n",
    "| Service_Name | The streaming platform name. | Created field | |\n",
    "| Genre_1 | The first genre in the Combined_Genres field, if present. | Created field from splitting \"Combined_Genres\" field | |\n",
    "| Genre_2 | The second genre in the Combined_Genres field, if present. | Created field from splitting \"Combined_Genres\" field | |\n",
    "| Genre_3 | The third genre in the Combined_Genres field, if present. | Created field from splitting \"Combined_Genres\" field | |\n",
    "| Genre_4 | The fourth genre in the Combined_Genres field, if present. | Created field from splitting \"Combined_Genres\" field | |\n",
    "| Genre_5 | The fifth genre in the Combined_Genres field, if present. | Created field from splitting \"Combined_Genres\" field | |\n",
    "| Genre_6 | The sixth genre in the Combined_Genres field, if present. | Created field from splitting \"Combined_Genres\" field | |\n",
    "| Genre_7 | The seventh genre in the Combined_Genres field, if present. | Created field from splitting \"Combined_Genres\" field | |\n"
   ]
  }
 ],
 "metadata": {
  "language_info": {
   "name": "python"
  }
 },
 "nbformat": 4,
 "nbformat_minor": 2
}
